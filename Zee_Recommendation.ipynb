{
 "cells": [
  {
   "cell_type": "markdown",
   "id": "b2ca8670-aa72-4e79-bc0d-2cbc9591470d",
   "metadata": {},
   "source": [
    "# Zee Recommender Systems: Personalized Movie Recommendations"
   ]
  },
  {
   "cell_type": "code",
   "execution_count": 365,
   "id": "c3323aee-3568-441e-a3b8-038bfacd4a29",
   "metadata": {},
   "outputs": [],
   "source": [
    "# Importing the required libraries\n",
    "import numpy as np\n",
    "import pandas as pd\n",
    "import matplotlib.pyplot as plt\n",
    "import seaborn as sns\n",
    "import re\n",
    "\n",
    "from sklearn.metrics.pairwise import cosine_similarity\n",
    "from sklearn.neighbors import NearestNeighbors"
   ]
  },
  {
   "cell_type": "markdown",
   "id": "429374f8-11e1-4db7-8dc1-bf11a1603151",
   "metadata": {},
   "source": [
    "## Dataset Loading"
   ]
  },
  {
   "cell_type": "code",
   "execution_count": 2,
   "id": "8e125b16-2977-4bef-96dc-c996d446243b",
   "metadata": {},
   "outputs": [],
   "source": [
    "# The respective datasets\n",
    "movies_df = pd.read_csv(\"ZEE-data/zee-movies.dat\", sep=\"::\", engine='python', encoding='ISO-8859-1')\n",
    "ratings_df = pd.read_csv(\"ZEE-data/zee-ratings.dat\", sep=\"::\", engine='python', encoding='ISO-8859-1')\n",
    "users_df = pd.read_csv(\"ZEE-data/zee-users.dat\", sep=\"::\", engine='python', encoding='ISO-8859-1')"
   ]
  },
  {
   "cell_type": "code",
   "execution_count": 5,
   "id": "952d1931-8d97-48ca-baa1-bc29e07a253e",
   "metadata": {},
   "outputs": [
    {
     "name": "stdout",
     "output_type": "stream",
     "text": [
      "Shape of movies df = (3883, 3),\n",
      "Shape of Ratings df = (1000209, 4),\n",
      "Shape of Users df =  (6040, 5)\n"
     ]
    }
   ],
   "source": [
    "print(f\"Shape of movies df = {movies_df.shape},\\nShape of Ratings df = {ratings_df.shape},\\nShape of Users df =  {users_df.shape}\")"
   ]
  },
  {
   "cell_type": "markdown",
   "id": "83f08bb4-27c4-43f0-85e8-3544e23c0ee1",
   "metadata": {},
   "source": [
    "### Movies DF Exploration"
   ]
  },
  {
   "cell_type": "code",
   "execution_count": 6,
   "id": "ecfafca7-7ee2-44f2-8263-39e565ee028a",
   "metadata": {},
   "outputs": [
    {
     "data": {
      "text/html": [
       "<div>\n",
       "<style scoped>\n",
       "    .dataframe tbody tr th:only-of-type {\n",
       "        vertical-align: middle;\n",
       "    }\n",
       "\n",
       "    .dataframe tbody tr th {\n",
       "        vertical-align: top;\n",
       "    }\n",
       "\n",
       "    .dataframe thead th {\n",
       "        text-align: right;\n",
       "    }\n",
       "</style>\n",
       "<table border=\"1\" class=\"dataframe\">\n",
       "  <thead>\n",
       "    <tr style=\"text-align: right;\">\n",
       "      <th></th>\n",
       "      <th>Movie ID</th>\n",
       "      <th>Title</th>\n",
       "      <th>Genres</th>\n",
       "    </tr>\n",
       "  </thead>\n",
       "  <tbody>\n",
       "    <tr>\n",
       "      <th>0</th>\n",
       "      <td>1</td>\n",
       "      <td>Toy Story (1995)</td>\n",
       "      <td>Animation|Children's|Comedy</td>\n",
       "    </tr>\n",
       "    <tr>\n",
       "      <th>1</th>\n",
       "      <td>2</td>\n",
       "      <td>Jumanji (1995)</td>\n",
       "      <td>Adventure|Children's|Fantasy</td>\n",
       "    </tr>\n",
       "    <tr>\n",
       "      <th>2</th>\n",
       "      <td>3</td>\n",
       "      <td>Grumpier Old Men (1995)</td>\n",
       "      <td>Comedy|Romance</td>\n",
       "    </tr>\n",
       "    <tr>\n",
       "      <th>3</th>\n",
       "      <td>4</td>\n",
       "      <td>Waiting to Exhale (1995)</td>\n",
       "      <td>Comedy|Drama</td>\n",
       "    </tr>\n",
       "    <tr>\n",
       "      <th>4</th>\n",
       "      <td>5</td>\n",
       "      <td>Father of the Bride Part II (1995)</td>\n",
       "      <td>Comedy</td>\n",
       "    </tr>\n",
       "  </tbody>\n",
       "</table>\n",
       "</div>"
      ],
      "text/plain": [
       "   Movie ID                               Title                        Genres\n",
       "0         1                    Toy Story (1995)   Animation|Children's|Comedy\n",
       "1         2                      Jumanji (1995)  Adventure|Children's|Fantasy\n",
       "2         3             Grumpier Old Men (1995)                Comedy|Romance\n",
       "3         4            Waiting to Exhale (1995)                  Comedy|Drama\n",
       "4         5  Father of the Bride Part II (1995)                        Comedy"
      ]
     },
     "execution_count": 6,
     "metadata": {},
     "output_type": "execute_result"
    }
   ],
   "source": [
    "movies_df.head()"
   ]
  },
  {
   "cell_type": "code",
   "execution_count": 7,
   "id": "f7bda060-19c2-4868-a52c-1661bc50a1d6",
   "metadata": {},
   "outputs": [],
   "source": [
    "# Obtaining Release_Year feature\n",
    "movies_df['Release_year'] = movies_df.Title.str.split('(').str[-1].str.split(\")\").str[0]"
   ]
  },
  {
   "cell_type": "code",
   "execution_count": 8,
   "id": "5ffb138b-b012-4a6b-a2a8-a57cfc2c6303",
   "metadata": {},
   "outputs": [],
   "source": [
    "# Function for removing the Year from Title\n",
    "def remove_year(title):\n",
    "    return re.sub(r'\\s*\\(\\d+\\)$',\"\", title)"
   ]
  },
  {
   "cell_type": "code",
   "execution_count": 9,
   "id": "31880989-4e34-4d91-ac33-cacd00bc1637",
   "metadata": {},
   "outputs": [],
   "source": [
    "# Removing the year from the Movie title\n",
    "movies_df.Title = movies_df['Title'].apply(remove_year)"
   ]
  },
  {
   "cell_type": "code",
   "execution_count": 10,
   "id": "73802e38-047e-40c7-88ff-259e1756389c",
   "metadata": {},
   "outputs": [],
   "source": [
    "# Splitting the movies based on Genre\n",
    "movies_df.Genres = movies_df.Genres.str.split('|')\n",
    "\n",
    "# Exploding the dataframe on the basis of Genres\n",
    "movies_df = movies_df.explode('Genres').reset_index(drop=True)"
   ]
  },
  {
   "cell_type": "code",
   "execution_count": 12,
   "id": "cd4c4f38-3f3c-4357-ad90-543df428b704",
   "metadata": {},
   "outputs": [
    {
     "data": {
      "text/html": [
       "<div>\n",
       "<style scoped>\n",
       "    .dataframe tbody tr th:only-of-type {\n",
       "        vertical-align: middle;\n",
       "    }\n",
       "\n",
       "    .dataframe tbody tr th {\n",
       "        vertical-align: top;\n",
       "    }\n",
       "\n",
       "    .dataframe thead th {\n",
       "        text-align: right;\n",
       "    }\n",
       "</style>\n",
       "<table border=\"1\" class=\"dataframe\">\n",
       "  <thead>\n",
       "    <tr style=\"text-align: right;\">\n",
       "      <th></th>\n",
       "      <th>Movie ID</th>\n",
       "      <th>Title</th>\n",
       "      <th>Genres</th>\n",
       "      <th>Release_year</th>\n",
       "    </tr>\n",
       "  </thead>\n",
       "  <tbody>\n",
       "    <tr>\n",
       "      <th>0</th>\n",
       "      <td>1</td>\n",
       "      <td>Toy Story</td>\n",
       "      <td>Animation</td>\n",
       "      <td>1995</td>\n",
       "    </tr>\n",
       "    <tr>\n",
       "      <th>1</th>\n",
       "      <td>1</td>\n",
       "      <td>Toy Story</td>\n",
       "      <td>Children's</td>\n",
       "      <td>1995</td>\n",
       "    </tr>\n",
       "    <tr>\n",
       "      <th>2</th>\n",
       "      <td>1</td>\n",
       "      <td>Toy Story</td>\n",
       "      <td>Comedy</td>\n",
       "      <td>1995</td>\n",
       "    </tr>\n",
       "    <tr>\n",
       "      <th>3</th>\n",
       "      <td>2</td>\n",
       "      <td>Jumanji</td>\n",
       "      <td>Adventure</td>\n",
       "      <td>1995</td>\n",
       "    </tr>\n",
       "    <tr>\n",
       "      <th>4</th>\n",
       "      <td>2</td>\n",
       "      <td>Jumanji</td>\n",
       "      <td>Children's</td>\n",
       "      <td>1995</td>\n",
       "    </tr>\n",
       "    <tr>\n",
       "      <th>...</th>\n",
       "      <td>...</td>\n",
       "      <td>...</td>\n",
       "      <td>...</td>\n",
       "      <td>...</td>\n",
       "    </tr>\n",
       "    <tr>\n",
       "      <th>6403</th>\n",
       "      <td>3949</td>\n",
       "      <td>Requiem for a Dream</td>\n",
       "      <td>Drama</td>\n",
       "      <td>2000</td>\n",
       "    </tr>\n",
       "    <tr>\n",
       "      <th>6404</th>\n",
       "      <td>3950</td>\n",
       "      <td>Tigerland</td>\n",
       "      <td>Drama</td>\n",
       "      <td>2000</td>\n",
       "    </tr>\n",
       "    <tr>\n",
       "      <th>6405</th>\n",
       "      <td>3951</td>\n",
       "      <td>Two Family House</td>\n",
       "      <td>Drama</td>\n",
       "      <td>2000</td>\n",
       "    </tr>\n",
       "    <tr>\n",
       "      <th>6406</th>\n",
       "      <td>3952</td>\n",
       "      <td>Contender, The</td>\n",
       "      <td>Drama</td>\n",
       "      <td>2000</td>\n",
       "    </tr>\n",
       "    <tr>\n",
       "      <th>6407</th>\n",
       "      <td>3952</td>\n",
       "      <td>Contender, The</td>\n",
       "      <td>Thriller</td>\n",
       "      <td>2000</td>\n",
       "    </tr>\n",
       "  </tbody>\n",
       "</table>\n",
       "<p>6408 rows × 4 columns</p>\n",
       "</div>"
      ],
      "text/plain": [
       "      Movie ID                Title      Genres Release_year\n",
       "0            1            Toy Story   Animation         1995\n",
       "1            1            Toy Story  Children's         1995\n",
       "2            1            Toy Story      Comedy         1995\n",
       "3            2              Jumanji   Adventure         1995\n",
       "4            2              Jumanji  Children's         1995\n",
       "...        ...                  ...         ...          ...\n",
       "6403      3949  Requiem for a Dream       Drama         2000\n",
       "6404      3950            Tigerland       Drama         2000\n",
       "6405      3951     Two Family House       Drama         2000\n",
       "6406      3952       Contender, The       Drama         2000\n",
       "6407      3952       Contender, The    Thriller         2000\n",
       "\n",
       "[6408 rows x 4 columns]"
      ]
     },
     "execution_count": 12,
     "metadata": {},
     "output_type": "execute_result"
    }
   ],
   "source": [
    "movies_df"
   ]
  },
  {
   "cell_type": "code",
   "execution_count": 48,
   "id": "f7ed47b1-6282-4825-ac4f-d7c101fce97a",
   "metadata": {},
   "outputs": [],
   "source": [
    "# Convert the Release_year datatype to int\n",
    "movies_df.Release_year = movies_df.Release_year.astype('int')"
   ]
  },
  {
   "cell_type": "code",
   "execution_count": 193,
   "id": "aa521299-65b3-4d49-9a9f-a9468b9ae2b1",
   "metadata": {},
   "outputs": [
    {
     "data": {
      "image/png": "[encoded data removed]",
      "text/plain": [
       "<Figure size 640x480 with 1 Axes>"
      ]
     },
     "metadata": {},
     "output_type": "display_data"
    }
   ],
   "source": [
    "# Plot the Genre distribution of the Movies\n",
    "genre_counts = movies_df['Genres'].value_counts()\n",
    "sns.barplot(x=genre_counts.index, y=genre_counts.values)\n",
    "plt.title(\"Genre distribution of the Movies\")\n",
    "plt.xticks(rotation=90)\n",
    "plt.show()"
   ]
  },
  {
   "cell_type": "markdown",
   "id": "ad9e2455-5817-448f-8248-c7b133d5c7f0",
   "metadata": {},
   "source": [
    "    - Maximum movies belong to the Drame genre followed by Comedy, Action, Thriller, Romance, Horror, Adventure"
   ]
  },
  {
   "cell_type": "code",
   "execution_count": 71,
   "id": "503936f6-1a19-4d0c-bb39-1c3d4bb1b908",
   "metadata": {},
   "outputs": [
    {
     "data": {
      "image/png": "[encoded data removed]",
      "text/plain": [
       "<Figure size 1600x1000 with 1 Axes>"
      ]
     },
     "metadata": {},
     "output_type": "display_data"
    }
   ],
   "source": [
    "# Plot the Release Year distribution of the Movies\n",
    "plt.figure(figsize=(16,10))\n",
    "sns.countplot(movies_df.groupby('Title').agg({'Release_year':'first'}), x='Release_year')\n",
    "plt.title(\"Movies Release Year Distribution\")\n",
    "plt.xticks(rotation=90)\n",
    "plt.show()"
   ]
  },
  {
   "cell_type": "code",
   "execution_count": 84,
   "id": "179d49e9-9d7c-4e8a-a0cc-92860f81e68c",
   "metadata": {},
   "outputs": [
    {
     "data": {
      "text/plain": [
       "Release_year\n",
       "1996            345\n",
       "1995            342\n",
       "1998            334\n",
       "1997            314\n",
       "1999            280\n",
       "               ... \n",
       "1923              3\n",
       "1919              3\n",
       "1920              2\n",
       "1922              2\n",
       "1921              1\n",
       "Name: count, Length: 81, dtype: int64"
      ]
     },
     "execution_count": 84,
     "metadata": {},
     "output_type": "execute_result"
    }
   ],
   "source": [
    "# Since, we exploded the movies dataframe on the Genre, hence there could be multiple entries of movies\n",
    "# To obtain the single entry corresponding to the movie for getting the actual number of movie releases\n",
    "# We applied groupby on the movies and took the first entry of the Year\n",
    "movies_df.groupby('Title').agg({'Release_year':'first'}).value_counts()"
   ]
  },
  {
   "cell_type": "markdown",
   "id": "6de66d60-2341-494c-a230-8acd8a03bb70",
   "metadata": {},
   "source": [
    "    - Maximum number of movies were release in year 1996 followed by 1995, 1998, 1997, 1999, 1994, 1993, 2000, 1992"
   ]
  },
  {
   "cell_type": "code",
   "execution_count": 184,
   "id": "67242219-9251-4485-acb5-19c26c89a516",
   "metadata": {},
   "outputs": [],
   "source": [
    "# Function for mapping the year to corresponding decade\n",
    "def map_to_decade(year):\n",
    "    if year > 1918 and year <= 1930:\n",
    "        return '20s'\n",
    "    elif year > 1930 and year <= 1940:\n",
    "        return '30s'\n",
    "    elif year > 1940 and year <= 1950:\n",
    "        return '40s'\n",
    "    elif year > 1950 and year <= 1960:\n",
    "        return '50s'\n",
    "    elif year > 1960 and year <= 1970:\n",
    "        return '60s'\n",
    "    elif year > 1970 and year <= 1980:\n",
    "        return '70s'\n",
    "    elif year > 1980 and year <= 1990:\n",
    "        return '80s'\n",
    "    elif year > 1990 and year <= 2000:\n",
    "        return '90s'\n",
    "    elif year > 2000 and year <= 2010:\n",
    "        return '2000s'\n",
    "    elif year > 2010 and year <= 2020:\n",
    "        return '2010s'\n",
    "    else:\n",
    "        return 'Unknown'"
   ]
  },
  {
   "cell_type": "code",
   "execution_count": 185,
   "id": "bc35f0fd-f4cd-4ce9-8e60-463ca1d6bf7c",
   "metadata": {},
   "outputs": [],
   "source": [
    "movies_df['Decade'] = movies_df['Release_year'].apply(map_to_decade)"
   ]
  },
  {
   "cell_type": "code",
   "execution_count": 191,
   "id": "8ef07e59-8d00-43fb-9738-8f818d15fc2d",
   "metadata": {},
   "outputs": [
    {
     "data": {
      "image/png": "[encoded data removed]",
      "text/plain": [
       "<Figure size 640x480 with 1 Axes>"
      ]
     },
     "metadata": {},
     "output_type": "display_data"
    }
   ],
   "source": [
    "# Plot the Release Year (decade) distribution of the Movies\n",
    "# plt.figure(figsize=(16,10))\n",
    "decade_counts = movies_df.groupby('Title').agg({'Decade':'first'})['Decade'].value_counts().sort_index()\n",
    "sns.barplot(x=decade_counts.index, y=decade_counts.values)\n",
    "plt.title(\"Movies Release Year Distribution - Decade\")\n",
    "plt.xticks(rotation=90)\n",
    "plt.show()"
   ]
  },
  {
   "cell_type": "markdown",
   "id": "d59cbd9f-d2bf-4a06-a024-1f5d17286762",
   "metadata": {},
   "source": [
    "### Ratings DF Exploration"
   ]
  },
  {
   "cell_type": "code",
   "execution_count": 13,
   "id": "3b94d93b-8c36-47e7-b0c7-929f52d3f5d7",
   "metadata": {},
   "outputs": [
    {
     "data": {
      "text/html": [
       "<div>\n",
       "<style scoped>\n",
       "    .dataframe tbody tr th:only-of-type {\n",
       "        vertical-align: middle;\n",
       "    }\n",
       "\n",
       "    .dataframe tbody tr th {\n",
       "        vertical-align: top;\n",
       "    }\n",
       "\n",
       "    .dataframe thead th {\n",
       "        text-align: right;\n",
       "    }\n",
       "</style>\n",
       "<table border=\"1\" class=\"dataframe\">\n",
       "  <thead>\n",
       "    <tr style=\"text-align: right;\">\n",
       "      <th></th>\n",
       "      <th>UserID</th>\n",
       "      <th>MovieID</th>\n",
       "      <th>Rating</th>\n",
       "      <th>Timestamp</th>\n",
       "    </tr>\n",
       "  </thead>\n",
       "  <tbody>\n",
       "    <tr>\n",
       "      <th>0</th>\n",
       "      <td>1</td>\n",
       "      <td>1193</td>\n",
       "      <td>5</td>\n",
       "      <td>978300760</td>\n",
       "    </tr>\n",
       "    <tr>\n",
       "      <th>1</th>\n",
       "      <td>1</td>\n",
       "      <td>661</td>\n",
       "      <td>3</td>\n",
       "      <td>978302109</td>\n",
       "    </tr>\n",
       "    <tr>\n",
       "      <th>2</th>\n",
       "      <td>1</td>\n",
       "      <td>914</td>\n",
       "      <td>3</td>\n",
       "      <td>978301968</td>\n",
       "    </tr>\n",
       "    <tr>\n",
       "      <th>3</th>\n",
       "      <td>1</td>\n",
       "      <td>3408</td>\n",
       "      <td>4</td>\n",
       "      <td>978300275</td>\n",
       "    </tr>\n",
       "    <tr>\n",
       "      <th>4</th>\n",
       "      <td>1</td>\n",
       "      <td>2355</td>\n",
       "      <td>5</td>\n",
       "      <td>978824291</td>\n",
       "    </tr>\n",
       "  </tbody>\n",
       "</table>\n",
       "</div>"
      ],
      "text/plain": [
       "   UserID  MovieID  Rating  Timestamp\n",
       "0       1     1193       5  978300760\n",
       "1       1      661       3  978302109\n",
       "2       1      914       3  978301968\n",
       "3       1     3408       4  978300275\n",
       "4       1     2355       5  978824291"
      ]
     },
     "execution_count": 13,
     "metadata": {},
     "output_type": "execute_result"
    }
   ],
   "source": [
    "# View the top items of ratings dataframe\n",
    "ratings_df.head()"
   ]
  },
  {
   "cell_type": "code",
   "execution_count": 14,
   "id": "957e69cd-5562-4b04-8de8-c81e6d8a7755",
   "metadata": {},
   "outputs": [],
   "source": [
    "# Converting the Timestamp into legible format\n",
    "ratings_df['Timestamp'] = pd.to_datetime(ratings_df['Timestamp'], unit='s')"
   ]
  },
  {
   "cell_type": "code",
   "execution_count": 15,
   "id": "3156518b-469c-4333-a606-374550743d2f",
   "metadata": {},
   "outputs": [
    {
     "data": {
      "text/html": [
       "<div>\n",
       "<style scoped>\n",
       "    .dataframe tbody tr th:only-of-type {\n",
       "        vertical-align: middle;\n",
       "    }\n",
       "\n",
       "    .dataframe tbody tr th {\n",
       "        vertical-align: top;\n",
       "    }\n",
       "\n",
       "    .dataframe thead th {\n",
       "        text-align: right;\n",
       "    }\n",
       "</style>\n",
       "<table border=\"1\" class=\"dataframe\">\n",
       "  <thead>\n",
       "    <tr style=\"text-align: right;\">\n",
       "      <th></th>\n",
       "      <th>UserID</th>\n",
       "      <th>MovieID</th>\n",
       "      <th>Rating</th>\n",
       "      <th>Timestamp</th>\n",
       "    </tr>\n",
       "  </thead>\n",
       "  <tbody>\n",
       "    <tr>\n",
       "      <th>0</th>\n",
       "      <td>1</td>\n",
       "      <td>1193</td>\n",
       "      <td>5</td>\n",
       "      <td>2000-12-31 22:12:40</td>\n",
       "    </tr>\n",
       "    <tr>\n",
       "      <th>1</th>\n",
       "      <td>1</td>\n",
       "      <td>661</td>\n",
       "      <td>3</td>\n",
       "      <td>2000-12-31 22:35:09</td>\n",
       "    </tr>\n",
       "    <tr>\n",
       "      <th>2</th>\n",
       "      <td>1</td>\n",
       "      <td>914</td>\n",
       "      <td>3</td>\n",
       "      <td>2000-12-31 22:32:48</td>\n",
       "    </tr>\n",
       "    <tr>\n",
       "      <th>3</th>\n",
       "      <td>1</td>\n",
       "      <td>3408</td>\n",
       "      <td>4</td>\n",
       "      <td>2000-12-31 22:04:35</td>\n",
       "    </tr>\n",
       "    <tr>\n",
       "      <th>4</th>\n",
       "      <td>1</td>\n",
       "      <td>2355</td>\n",
       "      <td>5</td>\n",
       "      <td>2001-01-06 23:38:11</td>\n",
       "    </tr>\n",
       "  </tbody>\n",
       "</table>\n",
       "</div>"
      ],
      "text/plain": [
       "   UserID  MovieID  Rating           Timestamp\n",
       "0       1     1193       5 2000-12-31 22:12:40\n",
       "1       1      661       3 2000-12-31 22:35:09\n",
       "2       1      914       3 2000-12-31 22:32:48\n",
       "3       1     3408       4 2000-12-31 22:04:35\n",
       "4       1     2355       5 2001-01-06 23:38:11"
      ]
     },
     "execution_count": 15,
     "metadata": {},
     "output_type": "execute_result"
    }
   ],
   "source": [
    "ratings_df.head()"
   ]
  },
  {
   "cell_type": "code",
   "execution_count": 87,
   "id": "569b0b1c-d945-450e-8440-ef4152629da5",
   "metadata": {},
   "outputs": [
    {
     "data": {
      "image/png": "[encoded data removed]",
      "text/plain": [
       "<Figure size 640x480 with 1 Axes>"
      ]
     },
     "metadata": {},
     "output_type": "display_data"
    }
   ],
   "source": [
    "# Plot the Ratings distribution\n",
    "sns.countplot(ratings_df, x='Rating')\n",
    "plt.title(\"Rating distribution given by users to the movies\")\n",
    "plt.show()"
   ]
  },
  {
   "cell_type": "markdown",
   "id": "423461d9-26ae-40fa-b97b-e0b501a321bc",
   "metadata": {},
   "source": [
    "    - Max Rating is 4 star, followed by 3, 5, 2, and 1"
   ]
  },
  {
   "cell_type": "code",
   "execution_count": 103,
   "id": "8f57cca7-467a-4b64-94d2-a041efb95d17",
   "metadata": {},
   "outputs": [
    {
     "data": {
      "text/html": [
       "<div>\n",
       "<style scoped>\n",
       "    .dataframe tbody tr th:only-of-type {\n",
       "        vertical-align: middle;\n",
       "    }\n",
       "\n",
       "    .dataframe tbody tr th {\n",
       "        vertical-align: top;\n",
       "    }\n",
       "\n",
       "    .dataframe thead th {\n",
       "        text-align: right;\n",
       "    }\n",
       "</style>\n",
       "<table border=\"1\" class=\"dataframe\">\n",
       "  <thead>\n",
       "    <tr style=\"text-align: right;\">\n",
       "      <th></th>\n",
       "      <th>UserID</th>\n",
       "      <th>MovieID</th>\n",
       "    </tr>\n",
       "  </thead>\n",
       "  <tbody>\n",
       "    <tr>\n",
       "      <th>0</th>\n",
       "      <td>4169</td>\n",
       "      <td>2314</td>\n",
       "    </tr>\n",
       "    <tr>\n",
       "      <th>1</th>\n",
       "      <td>1680</td>\n",
       "      <td>1850</td>\n",
       "    </tr>\n",
       "    <tr>\n",
       "      <th>2</th>\n",
       "      <td>4277</td>\n",
       "      <td>1743</td>\n",
       "    </tr>\n",
       "    <tr>\n",
       "      <th>3</th>\n",
       "      <td>1941</td>\n",
       "      <td>1595</td>\n",
       "    </tr>\n",
       "    <tr>\n",
       "      <th>4</th>\n",
       "      <td>1181</td>\n",
       "      <td>1521</td>\n",
       "    </tr>\n",
       "    <tr>\n",
       "      <th>...</th>\n",
       "      <td>...</td>\n",
       "      <td>...</td>\n",
       "    </tr>\n",
       "    <tr>\n",
       "      <th>6035</th>\n",
       "      <td>5725</td>\n",
       "      <td>20</td>\n",
       "    </tr>\n",
       "    <tr>\n",
       "      <th>6036</th>\n",
       "      <td>3407</td>\n",
       "      <td>20</td>\n",
       "    </tr>\n",
       "    <tr>\n",
       "      <th>6037</th>\n",
       "      <td>1664</td>\n",
       "      <td>20</td>\n",
       "    </tr>\n",
       "    <tr>\n",
       "      <th>6038</th>\n",
       "      <td>4419</td>\n",
       "      <td>20</td>\n",
       "    </tr>\n",
       "    <tr>\n",
       "      <th>6039</th>\n",
       "      <td>3021</td>\n",
       "      <td>20</td>\n",
       "    </tr>\n",
       "  </tbody>\n",
       "</table>\n",
       "<p>6040 rows × 2 columns</p>\n",
       "</div>"
      ],
      "text/plain": [
       "      UserID  MovieID\n",
       "0       4169     2314\n",
       "1       1680     1850\n",
       "2       4277     1743\n",
       "3       1941     1595\n",
       "4       1181     1521\n",
       "...      ...      ...\n",
       "6035    5725       20\n",
       "6036    3407       20\n",
       "6037    1664       20\n",
       "6038    4419       20\n",
       "6039    3021       20\n",
       "\n",
       "[6040 rows x 2 columns]"
      ]
     },
     "execution_count": 103,
     "metadata": {},
     "output_type": "execute_result"
    }
   ],
   "source": [
    "ratings_df.groupby('UserID').agg({'MovieID':'count'}).reset_index().sort_values(by='MovieID', ascending=False).reset_index(drop=True)"
   ]
  },
  {
   "cell_type": "code",
   "execution_count": 113,
   "id": "9497bf26-1bc2-46ba-b753-501bd52a205b",
   "metadata": {},
   "outputs": [],
   "source": [
    "df = ratings_df.groupby('UserID').agg({'MovieID':'count'}).reset_index().sort_values(by='MovieID', ascending=False).reset_index(drop=True).loc[0:20]"
   ]
  },
  {
   "cell_type": "code",
   "execution_count": 114,
   "id": "c20566ee-0abb-475e-b9a8-6e8a0f114a34",
   "metadata": {},
   "outputs": [
    {
     "data": {
      "image/png": "[encoded data removed]",
      "text/plain": [
       "<Figure size 1200x1000 with 1 Axes>"
      ]
     },
     "metadata": {},
     "output_type": "display_data"
    }
   ],
   "source": [
    "plt.figure(figsize=(12,10))\n",
    "sns.barplot(data=df, x='UserID', y='MovieID')\n",
    "plt.xticks(rotation=90)\n",
    "plt.title(\"Top 20 Users who gave ratings\")\n",
    "plt.show()"
   ]
  },
  {
   "cell_type": "code",
   "execution_count": 132,
   "id": "d8ec65aa-f923-4e29-bfe1-ad7742fe05a6",
   "metadata": {},
   "outputs": [
    {
     "data": {
      "image/png": "[encoded data removed]",
      "text/plain": [
       "<Figure size 640x480 with 1 Axes>"
      ]
     },
     "metadata": {},
     "output_type": "display_data"
    }
   ],
   "source": [
    "# Plot the Ratings Timestamp year Distribution\n",
    "sns.barplot(ratings_df.Timestamp.dt.year.value_counts().reset_index(), x='Timestamp', y='count')\n",
    "plt.title(\"Timestamp year distribution\")\n",
    "plt.show()"
   ]
  },
  {
   "cell_type": "markdown",
   "id": "8b60ce3e-befd-4f8c-a89d-0ae1071b9291",
   "metadata": {},
   "source": [
    "    - Maximum ratings were made during 2000"
   ]
  },
  {
   "cell_type": "code",
   "execution_count": 136,
   "id": "03f2bc45-77c5-4854-84de-ed69631cfa9e",
   "metadata": {},
   "outputs": [],
   "source": [
    "df = ratings_df.Timestamp.dt.time.value_counts().reset_index()"
   ]
  },
  {
   "cell_type": "code",
   "execution_count": 171,
   "id": "ce353fb0-c7b9-4bb4-aabb-76a8dd23d0bb",
   "metadata": {},
   "outputs": [
    {
     "name": "stdout",
     "output_type": "stream",
     "text": [
      "<class 'pandas.core.frame.DataFrame'>\n",
      "RangeIndex: 81910 entries, 0 to 81909\n",
      "Data columns (total 2 columns):\n",
      " #   Column     Non-Null Count  Dtype \n",
      "---  ------     --------------  ----- \n",
      " 0   Timestamp  81910 non-null  object\n",
      " 1   count      81910 non-null  int64 \n",
      "dtypes: int64(1), object(1)\n",
      "memory usage: 1.2+ MB\n"
     ]
    }
   ],
   "source": [
    "df.info()"
   ]
  },
  {
   "cell_type": "markdown",
   "id": "f72d454d-6453-4275-b790-c1e4e2024f27",
   "metadata": {},
   "source": [
    "### Users DF Exploration"
   ]
  },
  {
   "cell_type": "code",
   "execution_count": 16,
   "id": "3daa67b1-d0f5-4294-a621-4e31a315d812",
   "metadata": {},
   "outputs": [
    {
     "data": {
      "text/html": [
       "<div>\n",
       "<style scoped>\n",
       "    .dataframe tbody tr th:only-of-type {\n",
       "        vertical-align: middle;\n",
       "    }\n",
       "\n",
       "    .dataframe tbody tr th {\n",
       "        vertical-align: top;\n",
       "    }\n",
       "\n",
       "    .dataframe thead th {\n",
       "        text-align: right;\n",
       "    }\n",
       "</style>\n",
       "<table border=\"1\" class=\"dataframe\">\n",
       "  <thead>\n",
       "    <tr style=\"text-align: right;\">\n",
       "      <th></th>\n",
       "      <th>UserID</th>\n",
       "      <th>Gender</th>\n",
       "      <th>Age</th>\n",
       "      <th>Occupation</th>\n",
       "      <th>Zip-code</th>\n",
       "    </tr>\n",
       "  </thead>\n",
       "  <tbody>\n",
       "    <tr>\n",
       "      <th>0</th>\n",
       "      <td>1</td>\n",
       "      <td>F</td>\n",
       "      <td>1</td>\n",
       "      <td>10</td>\n",
       "      <td>48067</td>\n",
       "    </tr>\n",
       "    <tr>\n",
       "      <th>1</th>\n",
       "      <td>2</td>\n",
       "      <td>M</td>\n",
       "      <td>56</td>\n",
       "      <td>16</td>\n",
       "      <td>70072</td>\n",
       "    </tr>\n",
       "    <tr>\n",
       "      <th>2</th>\n",
       "      <td>3</td>\n",
       "      <td>M</td>\n",
       "      <td>25</td>\n",
       "      <td>15</td>\n",
       "      <td>55117</td>\n",
       "    </tr>\n",
       "    <tr>\n",
       "      <th>3</th>\n",
       "      <td>4</td>\n",
       "      <td>M</td>\n",
       "      <td>45</td>\n",
       "      <td>7</td>\n",
       "      <td>02460</td>\n",
       "    </tr>\n",
       "    <tr>\n",
       "      <th>4</th>\n",
       "      <td>5</td>\n",
       "      <td>M</td>\n",
       "      <td>25</td>\n",
       "      <td>20</td>\n",
       "      <td>55455</td>\n",
       "    </tr>\n",
       "  </tbody>\n",
       "</table>\n",
       "</div>"
      ],
      "text/plain": [
       "   UserID Gender  Age  Occupation Zip-code\n",
       "0       1      F    1          10    48067\n",
       "1       2      M   56          16    70072\n",
       "2       3      M   25          15    55117\n",
       "3       4      M   45           7    02460\n",
       "4       5      M   25          20    55455"
      ]
     },
     "execution_count": 16,
     "metadata": {},
     "output_type": "execute_result"
    }
   ],
   "source": [
    "users_df.head()"
   ]
  },
  {
   "cell_type": "code",
   "execution_count": 28,
   "id": "615fc721-def1-43ed-9b21-a44338e60a9b",
   "metadata": {},
   "outputs": [
    {
     "data": {
      "image/png": "[encoded data removed]",
      "text/plain": [
       "<Figure size 640x480 with 1 Axes>"
      ]
     },
     "metadata": {},
     "output_type": "display_data"
    }
   ],
   "source": [
    "# Plot the Gender distribution of the users\n",
    "sns.countplot(users_df, x='Gender')\n",
    "plt.title(\"Gender distribution of the Users\")\n",
    "plt.show()"
   ]
  },
  {
   "cell_type": "markdown",
   "id": "0ba2e936-9201-4f02-be29-d1e687fb34b1",
   "metadata": {},
   "source": [
    "    - Maximum number of users are Male"
   ]
  },
  {
   "cell_type": "code",
   "execution_count": 25,
   "id": "2ec3ea57-0287-4eb3-9dcf-085143529b22",
   "metadata": {},
   "outputs": [
    {
     "data": {
      "image/png": "[encoded data removed]",
      "text/plain": [
       "<Figure size 640x480 with 1 Axes>"
      ]
     },
     "metadata": {},
     "output_type": "display_data"
    }
   ],
   "source": [
    "# Plot the Age distribution of the users\n",
    "sns.countplot(users_df, x='Age')\n",
    "plt.title(\"Age distribution of the Users\")\n",
    "plt.show()"
   ]
  },
  {
   "cell_type": "markdown",
   "id": "5c432c56-5f1c-4494-be13-17d551eec374",
   "metadata": {},
   "source": [
    "    - Highest number of users belong to the age group of 25-34 years\n",
    "    - Second Highest number of users belong to age bracket 35-44 years\n",
    "    - Followed by 18-24 years\n",
    "    - Least participation was from Under 18 age group"
   ]
  },
  {
   "cell_type": "code",
   "execution_count": 29,
   "id": "8ca0c3c0-ad53-4f5b-84bd-8770f5d384e7",
   "metadata": {},
   "outputs": [
    {
     "data": {
      "image/png": "[encoded data removed]",
      "text/plain": [
       "<Figure size 640x480 with 1 Axes>"
      ]
     },
     "metadata": {},
     "output_type": "display_data"
    }
   ],
   "source": [
    "# Plot the Age distribution of the users along with Gender proportion\n",
    "sns.countplot(users_df, x='Age', hue='Gender')\n",
    "plt.title(\"Age distribution of the Users\")\n",
    "plt.show()"
   ]
  },
  {
   "cell_type": "code",
   "execution_count": 202,
   "id": "167fee3d-4b13-47af-8bbb-db64a47e413e",
   "metadata": {},
   "outputs": [],
   "source": [
    "# Replace numerical codes with categorical values for Occupation\n",
    "occupation_mapping = {\n",
    "0: 'Other or not specified',\n",
    "1: 'Academic/Educator',\n",
    "2: 'Artist',\n",
    "3: 'Clerical/Admin',\n",
    "4: 'College/Grad Student',\n",
    "5: 'Customer Service',\n",
    "6: 'Doctor/Health Care',\n",
    "7: 'Executive/Managerial',\n",
    "8: 'Farmer',\n",
    "9: 'Homemaker',\n",
    "10: 'K-12 Student',\n",
    "11: 'Lawyer',\n",
    "12: 'Programmer',\n",
    "13: 'Retired',\n",
    "14: 'Sales/Marketing',\n",
    "15: 'Scientist',\n",
    "16: 'Self-Employed',\n",
    "17: 'Technician/Engineer',\n",
    "18: 'Tradesman/Craftsman',\n",
    "19: 'Unemployed',\n",
    "20: 'Writer'\n",
    "}\n",
    "users_df['Occupation'] = users_df['Occupation'].replace(occupation_mapping)"
   ]
  },
  {
   "cell_type": "code",
   "execution_count": 209,
   "id": "ad140b97-d26a-429a-acec-e0eb166d3c55",
   "metadata": {},
   "outputs": [
    {
     "data": {
      "image/png": "[encoded data removed]",
      "text/plain": [
       "<Figure size 1600x1000 with 1 Axes>"
      ]
     },
     "metadata": {},
     "output_type": "display_data"
    }
   ],
   "source": [
    "# Plot the Occupation distribution of the users\n",
    "occupation_counts = users_df['Occupation'].value_counts()\n",
    "plt.figure(figsize=(16,10))\n",
    "sns.barplot(x=occupation_counts.index, y=occupation_counts.values)\n",
    "plt.xticks(rotation=90)\n",
    "plt.title(\"Occupation distribution of the Users\")\n",
    "plt.show()"
   ]
  },
  {
   "cell_type": "markdown",
   "id": "b96fb7e0-0eb2-4c6a-8a0c-bcb95bede287",
   "metadata": {},
   "source": [
    "    - College/Grad students had the highest participation\n",
    "    - Others had the 2nd highest position\n",
    "    - Exceutive/Managerial users had the 3rd highest participation\n",
    "    - Followed by Academic/Educator\n",
    "    - Least participation was from Farmers"
   ]
  },
  {
   "cell_type": "code",
   "execution_count": 213,
   "id": "b6550447-dbe0-446c-a00c-76713ce45a50",
   "metadata": {},
   "outputs": [
    {
     "data": {
      "image/png": "[encoded data removed]",
      "text/plain": [
       "<Figure size 1600x1000 with 1 Axes>"
      ]
     },
     "metadata": {},
     "output_type": "display_data"
    }
   ],
   "source": [
    "# Plot the Occupation distribution of the users along with gender\n",
    "plt.figure(figsize=(16,10))\n",
    "sns.countplot(users_df, x='Occupation', hue='Gender')\n",
    "plt.xticks(rotation=90)\n",
    "plt.title(\"Occupation distribution of the Users\")\n",
    "plt.show()"
   ]
  },
  {
   "cell_type": "markdown",
   "id": "10446202-2fac-49c8-af38-234fbe22fda8",
   "metadata": {},
   "source": [
    "    - Women users out numbered Men in Clerical/Admin and Homemaker occupation "
   ]
  },
  {
   "cell_type": "code",
   "execution_count": 143,
   "id": "dfdc4eb9-45d0-4f37-ad9b-bc2e16945eaa",
   "metadata": {},
   "outputs": [
    {
     "data": {
      "text/plain": [
       "Movie ID        0\n",
       "Title           0\n",
       "Genres          0\n",
       "Release_year    0\n",
       "dtype: int64"
      ]
     },
     "execution_count": 143,
     "metadata": {},
     "output_type": "execute_result"
    }
   ],
   "source": [
    "movies_df.isnull().sum()"
   ]
  },
  {
   "cell_type": "code",
   "execution_count": 144,
   "id": "153300ae-fa21-4d63-baab-684681ff3cc8",
   "metadata": {},
   "outputs": [
    {
     "data": {
      "text/plain": [
       "UserID       0\n",
       "MovieID      0\n",
       "Rating       0\n",
       "Timestamp    0\n",
       "dtype: int64"
      ]
     },
     "execution_count": 144,
     "metadata": {},
     "output_type": "execute_result"
    }
   ],
   "source": [
    "ratings_df.isnull().sum()"
   ]
  },
  {
   "cell_type": "code",
   "execution_count": 145,
   "id": "89399c71-22c4-4cbe-ab03-e511fd3fdab3",
   "metadata": {},
   "outputs": [
    {
     "data": {
      "text/plain": [
       "UserID        0\n",
       "Gender        0\n",
       "Age           0\n",
       "Occupation    0\n",
       "Zip-code      0\n",
       "dtype: int64"
      ]
     },
     "execution_count": 145,
     "metadata": {},
     "output_type": "execute_result"
    }
   ],
   "source": [
    "users_df.isnull().sum()"
   ]
  },
  {
   "cell_type": "code",
   "execution_count": 214,
   "id": "e55f410c-48c4-4cd1-83a3-441b2d09babe",
   "metadata": {},
   "outputs": [],
   "source": [
    "# Renaming the 'Movie ID' column to 'MovieID' in movies_df\n",
    "movies_df.rename(columns={'Movie ID':\"MovieID\"}, inplace=True)"
   ]
  },
  {
   "cell_type": "code",
   "execution_count": 215,
   "id": "9804ee74-b02d-4698-84e5-468ecbf2028d",
   "metadata": {},
   "outputs": [
    {
     "data": {
      "text/html": [
       "<div>\n",
       "<style scoped>\n",
       "    .dataframe tbody tr th:only-of-type {\n",
       "        vertical-align: middle;\n",
       "    }\n",
       "\n",
       "    .dataframe tbody tr th {\n",
       "        vertical-align: top;\n",
       "    }\n",
       "\n",
       "    .dataframe thead th {\n",
       "        text-align: right;\n",
       "    }\n",
       "</style>\n",
       "<table border=\"1\" class=\"dataframe\">\n",
       "  <thead>\n",
       "    <tr style=\"text-align: right;\">\n",
       "      <th></th>\n",
       "      <th>MovieID</th>\n",
       "      <th>Title</th>\n",
       "      <th>Genres</th>\n",
       "      <th>Release_year</th>\n",
       "      <th>Decade</th>\n",
       "    </tr>\n",
       "  </thead>\n",
       "  <tbody>\n",
       "    <tr>\n",
       "      <th>0</th>\n",
       "      <td>1</td>\n",
       "      <td>Toy Story</td>\n",
       "      <td>Animation</td>\n",
       "      <td>1995</td>\n",
       "      <td>90s</td>\n",
       "    </tr>\n",
       "    <tr>\n",
       "      <th>1</th>\n",
       "      <td>1</td>\n",
       "      <td>Toy Story</td>\n",
       "      <td>Children's</td>\n",
       "      <td>1995</td>\n",
       "      <td>90s</td>\n",
       "    </tr>\n",
       "    <tr>\n",
       "      <th>2</th>\n",
       "      <td>1</td>\n",
       "      <td>Toy Story</td>\n",
       "      <td>Comedy</td>\n",
       "      <td>1995</td>\n",
       "      <td>90s</td>\n",
       "    </tr>\n",
       "    <tr>\n",
       "      <th>3</th>\n",
       "      <td>2</td>\n",
       "      <td>Jumanji</td>\n",
       "      <td>Adventure</td>\n",
       "      <td>1995</td>\n",
       "      <td>90s</td>\n",
       "    </tr>\n",
       "    <tr>\n",
       "      <th>4</th>\n",
       "      <td>2</td>\n",
       "      <td>Jumanji</td>\n",
       "      <td>Children's</td>\n",
       "      <td>1995</td>\n",
       "      <td>90s</td>\n",
       "    </tr>\n",
       "  </tbody>\n",
       "</table>\n",
       "</div>"
      ],
      "text/plain": [
       "   MovieID      Title      Genres  Release_year Decade\n",
       "0        1  Toy Story   Animation          1995    90s\n",
       "1        1  Toy Story  Children's          1995    90s\n",
       "2        1  Toy Story      Comedy          1995    90s\n",
       "3        2    Jumanji   Adventure          1995    90s\n",
       "4        2    Jumanji  Children's          1995    90s"
      ]
     },
     "execution_count": 215,
     "metadata": {},
     "output_type": "execute_result"
    }
   ],
   "source": [
    "movies_df.head()"
   ]
  },
  {
   "cell_type": "markdown",
   "id": "388ae057-e914-4de5-a157-10ef76dced20",
   "metadata": {},
   "source": [
    "## Combining the datafiles into single Dataframe"
   ]
  },
  {
   "cell_type": "code",
   "execution_count": 216,
   "id": "951ccf8f-7440-457d-a5a3-03a80b291f54",
   "metadata": {},
   "outputs": [
    {
     "data": {
      "text/html": [
       "<div>\n",
       "<style scoped>\n",
       "    .dataframe tbody tr th:only-of-type {\n",
       "        vertical-align: middle;\n",
       "    }\n",
       "\n",
       "    .dataframe tbody tr th {\n",
       "        vertical-align: top;\n",
       "    }\n",
       "\n",
       "    .dataframe thead th {\n",
       "        text-align: right;\n",
       "    }\n",
       "</style>\n",
       "<table border=\"1\" class=\"dataframe\">\n",
       "  <thead>\n",
       "    <tr style=\"text-align: right;\">\n",
       "      <th></th>\n",
       "      <th>MovieID</th>\n",
       "      <th>Title</th>\n",
       "      <th>Genres</th>\n",
       "      <th>Release_year</th>\n",
       "      <th>Decade</th>\n",
       "      <th>UserID</th>\n",
       "      <th>Rating</th>\n",
       "      <th>Timestamp</th>\n",
       "    </tr>\n",
       "  </thead>\n",
       "  <tbody>\n",
       "    <tr>\n",
       "      <th>0</th>\n",
       "      <td>1</td>\n",
       "      <td>Toy Story</td>\n",
       "      <td>Animation</td>\n",
       "      <td>1995</td>\n",
       "      <td>90s</td>\n",
       "      <td>1</td>\n",
       "      <td>5</td>\n",
       "      <td>2001-01-06 23:37:48</td>\n",
       "    </tr>\n",
       "    <tr>\n",
       "      <th>1</th>\n",
       "      <td>1</td>\n",
       "      <td>Toy Story</td>\n",
       "      <td>Animation</td>\n",
       "      <td>1995</td>\n",
       "      <td>90s</td>\n",
       "      <td>6</td>\n",
       "      <td>4</td>\n",
       "      <td>2000-12-31 04:30:08</td>\n",
       "    </tr>\n",
       "    <tr>\n",
       "      <th>2</th>\n",
       "      <td>1</td>\n",
       "      <td>Toy Story</td>\n",
       "      <td>Animation</td>\n",
       "      <td>1995</td>\n",
       "      <td>90s</td>\n",
       "      <td>8</td>\n",
       "      <td>4</td>\n",
       "      <td>2000-12-31 03:31:36</td>\n",
       "    </tr>\n",
       "    <tr>\n",
       "      <th>3</th>\n",
       "      <td>1</td>\n",
       "      <td>Toy Story</td>\n",
       "      <td>Animation</td>\n",
       "      <td>1995</td>\n",
       "      <td>90s</td>\n",
       "      <td>9</td>\n",
       "      <td>5</td>\n",
       "      <td>2000-12-31 01:25:52</td>\n",
       "    </tr>\n",
       "    <tr>\n",
       "      <th>4</th>\n",
       "      <td>1</td>\n",
       "      <td>Toy Story</td>\n",
       "      <td>Animation</td>\n",
       "      <td>1995</td>\n",
       "      <td>90s</td>\n",
       "      <td>10</td>\n",
       "      <td>5</td>\n",
       "      <td>2000-12-31 01:34:34</td>\n",
       "    </tr>\n",
       "  </tbody>\n",
       "</table>\n",
       "</div>"
      ],
      "text/plain": [
       "   MovieID      Title     Genres  Release_year Decade  UserID  Rating  \\\n",
       "0        1  Toy Story  Animation          1995    90s       1       5   \n",
       "1        1  Toy Story  Animation          1995    90s       6       4   \n",
       "2        1  Toy Story  Animation          1995    90s       8       4   \n",
       "3        1  Toy Story  Animation          1995    90s       9       5   \n",
       "4        1  Toy Story  Animation          1995    90s      10       5   \n",
       "\n",
       "            Timestamp  \n",
       "0 2001-01-06 23:37:48  \n",
       "1 2000-12-31 04:30:08  \n",
       "2 2000-12-31 03:31:36  \n",
       "3 2000-12-31 01:25:52  \n",
       "4 2000-12-31 01:34:34  "
      ]
     },
     "execution_count": 216,
     "metadata": {},
     "output_type": "execute_result"
    }
   ],
   "source": [
    "# Merging the ratings_df and movies_df on MovieID\n",
    "merged_df = pd.merge(movies_df, ratings_df, on='MovieID', how='inner')\n",
    "\n",
    "# Display the merged dataframe\n",
    "merged_df.head()"
   ]
  },
  {
   "cell_type": "code",
   "execution_count": 273,
   "id": "94801c44-6c8a-4835-a4b1-09dcaf4a3e9b",
   "metadata": {},
   "outputs": [
    {
     "data": {
      "text/html": [
       "<div>\n",
       "<style scoped>\n",
       "    .dataframe tbody tr th:only-of-type {\n",
       "        vertical-align: middle;\n",
       "    }\n",
       "\n",
       "    .dataframe tbody tr th {\n",
       "        vertical-align: top;\n",
       "    }\n",
       "\n",
       "    .dataframe thead th {\n",
       "        text-align: right;\n",
       "    }\n",
       "</style>\n",
       "<table border=\"1\" class=\"dataframe\">\n",
       "  <thead>\n",
       "    <tr style=\"text-align: right;\">\n",
       "      <th></th>\n",
       "      <th>MovieID</th>\n",
       "      <th>Title</th>\n",
       "      <th>Genres</th>\n",
       "      <th>Release_year</th>\n",
       "      <th>Decade</th>\n",
       "      <th>UserID</th>\n",
       "      <th>Rating</th>\n",
       "      <th>Timestamp</th>\n",
       "      <th>Gender</th>\n",
       "      <th>Age</th>\n",
       "      <th>Occupation</th>\n",
       "      <th>Zip-code</th>\n",
       "    </tr>\n",
       "  </thead>\n",
       "  <tbody>\n",
       "    <tr>\n",
       "      <th>0</th>\n",
       "      <td>1</td>\n",
       "      <td>Toy Story</td>\n",
       "      <td>Animation</td>\n",
       "      <td>1995</td>\n",
       "      <td>90s</td>\n",
       "      <td>1</td>\n",
       "      <td>5</td>\n",
       "      <td>2001-01-06 23:37:48</td>\n",
       "      <td>F</td>\n",
       "      <td>1</td>\n",
       "      <td>K-12 Student</td>\n",
       "      <td>48067</td>\n",
       "    </tr>\n",
       "    <tr>\n",
       "      <th>1</th>\n",
       "      <td>1</td>\n",
       "      <td>Toy Story</td>\n",
       "      <td>Children's</td>\n",
       "      <td>1995</td>\n",
       "      <td>90s</td>\n",
       "      <td>1</td>\n",
       "      <td>5</td>\n",
       "      <td>2001-01-06 23:37:48</td>\n",
       "      <td>F</td>\n",
       "      <td>1</td>\n",
       "      <td>K-12 Student</td>\n",
       "      <td>48067</td>\n",
       "    </tr>\n",
       "    <tr>\n",
       "      <th>2</th>\n",
       "      <td>1</td>\n",
       "      <td>Toy Story</td>\n",
       "      <td>Comedy</td>\n",
       "      <td>1995</td>\n",
       "      <td>90s</td>\n",
       "      <td>1</td>\n",
       "      <td>5</td>\n",
       "      <td>2001-01-06 23:37:48</td>\n",
       "      <td>F</td>\n",
       "      <td>1</td>\n",
       "      <td>K-12 Student</td>\n",
       "      <td>48067</td>\n",
       "    </tr>\n",
       "    <tr>\n",
       "      <th>3</th>\n",
       "      <td>48</td>\n",
       "      <td>Pocahontas</td>\n",
       "      <td>Animation</td>\n",
       "      <td>1995</td>\n",
       "      <td>90s</td>\n",
       "      <td>1</td>\n",
       "      <td>5</td>\n",
       "      <td>2001-01-06 23:39:11</td>\n",
       "      <td>F</td>\n",
       "      <td>1</td>\n",
       "      <td>K-12 Student</td>\n",
       "      <td>48067</td>\n",
       "    </tr>\n",
       "    <tr>\n",
       "      <th>4</th>\n",
       "      <td>48</td>\n",
       "      <td>Pocahontas</td>\n",
       "      <td>Children's</td>\n",
       "      <td>1995</td>\n",
       "      <td>90s</td>\n",
       "      <td>1</td>\n",
       "      <td>5</td>\n",
       "      <td>2001-01-06 23:39:11</td>\n",
       "      <td>F</td>\n",
       "      <td>1</td>\n",
       "      <td>K-12 Student</td>\n",
       "      <td>48067</td>\n",
       "    </tr>\n",
       "  </tbody>\n",
       "</table>\n",
       "</div>"
      ],
      "text/plain": [
       "   MovieID       Title      Genres  Release_year Decade  UserID  Rating  \\\n",
       "0        1   Toy Story   Animation          1995    90s       1       5   \n",
       "1        1   Toy Story  Children's          1995    90s       1       5   \n",
       "2        1   Toy Story      Comedy          1995    90s       1       5   \n",
       "3       48  Pocahontas   Animation          1995    90s       1       5   \n",
       "4       48  Pocahontas  Children's          1995    90s       1       5   \n",
       "\n",
       "            Timestamp Gender  Age    Occupation Zip-code  \n",
       "0 2001-01-06 23:37:48      F    1  K-12 Student    48067  \n",
       "1 2001-01-06 23:37:48      F    1  K-12 Student    48067  \n",
       "2 2001-01-06 23:37:48      F    1  K-12 Student    48067  \n",
       "3 2001-01-06 23:39:11      F    1  K-12 Student    48067  \n",
       "4 2001-01-06 23:39:11      F    1  K-12 Student    48067  "
      ]
     },
     "execution_count": 273,
     "metadata": {},
     "output_type": "execute_result"
    }
   ],
   "source": [
    "# Merging the merged_df and Users dataframe on columns 'UserID'\n",
    "df = pd.merge(merged_df, users_df, on='UserID', how='inner')\n",
    "# Display the final merged dataframe\n",
    "df.head()"
   ]
  },
  {
   "cell_type": "code",
   "execution_count": 274,
   "id": "16245c6e-8ed6-487e-bfe4-5cce60af3dbf",
   "metadata": {},
   "outputs": [
    {
     "data": {
      "text/plain": [
       "(2101815, 12)"
      ]
     },
     "execution_count": 274,
     "metadata": {},
     "output_type": "execute_result"
    }
   ],
   "source": [
    "df.shape"
   ]
  },
  {
   "cell_type": "markdown",
   "id": "911c1150-24fb-4fac-98ab-530eb3affd2f",
   "metadata": {},
   "source": [
    "### Performing some exploration in the Complete Merged Dataframe"
   ]
  },
  {
   "cell_type": "code",
   "execution_count": 232,
   "id": "fd6a728f-f04d-4a4c-a2ad-540b50e7a07f",
   "metadata": {},
   "outputs": [
    {
     "data": {
      "text/html": [
       "<div>\n",
       "<style scoped>\n",
       "    .dataframe tbody tr th:only-of-type {\n",
       "        vertical-align: middle;\n",
       "    }\n",
       "\n",
       "    .dataframe tbody tr th {\n",
       "        vertical-align: top;\n",
       "    }\n",
       "\n",
       "    .dataframe thead th {\n",
       "        text-align: right;\n",
       "    }\n",
       "</style>\n",
       "<table border=\"1\" class=\"dataframe\">\n",
       "  <thead>\n",
       "    <tr style=\"text-align: right;\">\n",
       "      <th></th>\n",
       "      <th>MovieID</th>\n",
       "      <th>Title</th>\n",
       "      <th>Genres</th>\n",
       "      <th>Release_year</th>\n",
       "      <th>Decade</th>\n",
       "      <th>UserID</th>\n",
       "      <th>Rating</th>\n",
       "      <th>Timestamp</th>\n",
       "      <th>Gender</th>\n",
       "      <th>Age</th>\n",
       "      <th>Occupation</th>\n",
       "      <th>Zip-code</th>\n",
       "    </tr>\n",
       "  </thead>\n",
       "  <tbody>\n",
       "    <tr>\n",
       "      <th>0</th>\n",
       "      <td>1</td>\n",
       "      <td>Toy Story</td>\n",
       "      <td>Animation</td>\n",
       "      <td>1995</td>\n",
       "      <td>90s</td>\n",
       "      <td>1</td>\n",
       "      <td>5</td>\n",
       "      <td>2001-01-06 23:37:48</td>\n",
       "      <td>F</td>\n",
       "      <td>1</td>\n",
       "      <td>K-12 Student</td>\n",
       "      <td>48067</td>\n",
       "    </tr>\n",
       "    <tr>\n",
       "      <th>1</th>\n",
       "      <td>48</td>\n",
       "      <td>Pocahontas</td>\n",
       "      <td>Animation</td>\n",
       "      <td>1995</td>\n",
       "      <td>90s</td>\n",
       "      <td>1</td>\n",
       "      <td>5</td>\n",
       "      <td>2001-01-06 23:39:11</td>\n",
       "      <td>F</td>\n",
       "      <td>1</td>\n",
       "      <td>K-12 Student</td>\n",
       "      <td>48067</td>\n",
       "    </tr>\n",
       "    <tr>\n",
       "      <th>2</th>\n",
       "      <td>150</td>\n",
       "      <td>Apollo 13</td>\n",
       "      <td>Drama</td>\n",
       "      <td>1995</td>\n",
       "      <td>90s</td>\n",
       "      <td>1</td>\n",
       "      <td>5</td>\n",
       "      <td>2000-12-31 22:29:37</td>\n",
       "      <td>F</td>\n",
       "      <td>1</td>\n",
       "      <td>K-12 Student</td>\n",
       "      <td>48067</td>\n",
       "    </tr>\n",
       "    <tr>\n",
       "      <th>3</th>\n",
       "      <td>260</td>\n",
       "      <td>Star Wars: Episode IV - A New Hope</td>\n",
       "      <td>Action</td>\n",
       "      <td>1977</td>\n",
       "      <td>70s</td>\n",
       "      <td>1</td>\n",
       "      <td>4</td>\n",
       "      <td>2000-12-31 22:12:40</td>\n",
       "      <td>F</td>\n",
       "      <td>1</td>\n",
       "      <td>K-12 Student</td>\n",
       "      <td>48067</td>\n",
       "    </tr>\n",
       "    <tr>\n",
       "      <th>4</th>\n",
       "      <td>527</td>\n",
       "      <td>Schindler's List</td>\n",
       "      <td>Drama</td>\n",
       "      <td>1993</td>\n",
       "      <td>90s</td>\n",
       "      <td>1</td>\n",
       "      <td>5</td>\n",
       "      <td>2001-01-06 23:36:35</td>\n",
       "      <td>F</td>\n",
       "      <td>1</td>\n",
       "      <td>K-12 Student</td>\n",
       "      <td>48067</td>\n",
       "    </tr>\n",
       "  </tbody>\n",
       "</table>\n",
       "</div>"
      ],
      "text/plain": [
       "   MovieID                               Title     Genres  Release_year  \\\n",
       "0        1                           Toy Story  Animation          1995   \n",
       "1       48                          Pocahontas  Animation          1995   \n",
       "2      150                           Apollo 13      Drama          1995   \n",
       "3      260  Star Wars: Episode IV - A New Hope     Action          1977   \n",
       "4      527                    Schindler's List      Drama          1993   \n",
       "\n",
       "  Decade  UserID  Rating           Timestamp Gender  Age    Occupation  \\\n",
       "0    90s       1       5 2001-01-06 23:37:48      F    1  K-12 Student   \n",
       "1    90s       1       5 2001-01-06 23:39:11      F    1  K-12 Student   \n",
       "2    90s       1       5 2000-12-31 22:29:37      F    1  K-12 Student   \n",
       "3    70s       1       4 2000-12-31 22:12:40      F    1  K-12 Student   \n",
       "4    90s       1       5 2001-01-06 23:36:35      F    1  K-12 Student   \n",
       "\n",
       "  Zip-code  \n",
       "0    48067  \n",
       "1    48067  \n",
       "2    48067  \n",
       "3    48067  \n",
       "4    48067  "
      ]
     },
     "execution_count": 232,
     "metadata": {},
     "output_type": "execute_result"
    }
   ],
   "source": [
    "df.head()"
   ]
  },
  {
   "cell_type": "code",
   "execution_count": 239,
   "id": "8dda1d88-aef3-4b0b-abfe-44611bbbc2bc",
   "metadata": {},
   "outputs": [
    {
     "data": {
      "text/plain": [
       "Age\n",
       "25    831332\n",
       "35    417534\n",
       "18    391839\n",
       "45    173677\n",
       "50    149791\n",
       "56     78822\n",
       "1      58820\n",
       "Name: count, dtype: int64"
      ]
     },
     "execution_count": 239,
     "metadata": {},
     "output_type": "execute_result"
    }
   ],
   "source": [
    "df.Age.value_counts()"
   ]
  },
  {
   "cell_type": "code",
   "execution_count": 240,
   "id": "3c6a4bed-d265-4ec5-b62c-f1982d21f088",
   "metadata": {},
   "outputs": [
    {
     "data": {
      "image/png": "[encoded data removed]",
      "text/plain": [
       "<Figure size 1600x1000 with 1 Axes>"
      ]
     },
     "metadata": {},
     "output_type": "display_data"
    }
   ],
   "source": [
    "# Plot the age and genre relationship\n",
    "plt.figure(figsize=(16,10))\n",
    "sns.countplot(df, x='Genres', hue='Age')\n",
    "plt.xticks(rotation=90)\n",
    "plt.title(\"Genres distribution according to Age\")\n",
    "plt.show()"
   ]
  },
  {
   "cell_type": "markdown",
   "id": "0298fe46-9708-4786-a292-be25fdcdd4c4",
   "metadata": {},
   "source": [
    "    - Maximum People watch Comedy and of which 25-34 years demographic contribution is more\n",
    "    - Least people watch Documentary"
   ]
  },
  {
   "cell_type": "code",
   "execution_count": 257,
   "id": "77821f07-b518-4e30-94f6-bea63444e2ce",
   "metadata": {},
   "outputs": [
    {
     "data": {
      "text/html": [
       "<div>\n",
       "<style scoped>\n",
       "    .dataframe tbody tr th:only-of-type {\n",
       "        vertical-align: middle;\n",
       "    }\n",
       "\n",
       "    .dataframe tbody tr th {\n",
       "        vertical-align: top;\n",
       "    }\n",
       "\n",
       "    .dataframe thead th {\n",
       "        text-align: right;\n",
       "    }\n",
       "</style>\n",
       "<table border=\"1\" class=\"dataframe\">\n",
       "  <thead>\n",
       "    <tr style=\"text-align: right;\">\n",
       "      <th></th>\n",
       "      <th>Genres</th>\n",
       "      <th>Rating</th>\n",
       "    </tr>\n",
       "  </thead>\n",
       "  <tbody>\n",
       "    <tr>\n",
       "      <th>10</th>\n",
       "      <td>Horror</td>\n",
       "      <td>3.215013</td>\n",
       "    </tr>\n",
       "    <tr>\n",
       "      <th>3</th>\n",
       "      <td>Children's</td>\n",
       "      <td>3.422035</td>\n",
       "    </tr>\n",
       "    <tr>\n",
       "      <th>8</th>\n",
       "      <td>Fantasy</td>\n",
       "      <td>3.447371</td>\n",
       "    </tr>\n",
       "    <tr>\n",
       "      <th>14</th>\n",
       "      <td>Sci-Fi</td>\n",
       "      <td>3.466521</td>\n",
       "    </tr>\n",
       "    <tr>\n",
       "      <th>1</th>\n",
       "      <td>Adventure</td>\n",
       "      <td>3.477257</td>\n",
       "    </tr>\n",
       "    <tr>\n",
       "      <th>0</th>\n",
       "      <td>Action</td>\n",
       "      <td>3.491185</td>\n",
       "    </tr>\n",
       "    <tr>\n",
       "      <th>4</th>\n",
       "      <td>Comedy</td>\n",
       "      <td>3.522099</td>\n",
       "    </tr>\n",
       "    <tr>\n",
       "      <th>15</th>\n",
       "      <td>Thriller</td>\n",
       "      <td>3.570466</td>\n",
       "    </tr>\n",
       "    <tr>\n",
       "      <th>13</th>\n",
       "      <td>Romance</td>\n",
       "      <td>3.607465</td>\n",
       "    </tr>\n",
       "    <tr>\n",
       "      <th>17</th>\n",
       "      <td>Western</td>\n",
       "      <td>3.637770</td>\n",
       "    </tr>\n",
       "    <tr>\n",
       "      <th>11</th>\n",
       "      <td>Musical</td>\n",
       "      <td>3.665519</td>\n",
       "    </tr>\n",
       "    <tr>\n",
       "      <th>12</th>\n",
       "      <td>Mystery</td>\n",
       "      <td>3.668102</td>\n",
       "    </tr>\n",
       "    <tr>\n",
       "      <th>2</th>\n",
       "      <td>Animation</td>\n",
       "      <td>3.684868</td>\n",
       "    </tr>\n",
       "    <tr>\n",
       "      <th>5</th>\n",
       "      <td>Crime</td>\n",
       "      <td>3.708679</td>\n",
       "    </tr>\n",
       "    <tr>\n",
       "      <th>7</th>\n",
       "      <td>Drama</td>\n",
       "      <td>3.766332</td>\n",
       "    </tr>\n",
       "    <tr>\n",
       "      <th>16</th>\n",
       "      <td>War</td>\n",
       "      <td>3.893327</td>\n",
       "    </tr>\n",
       "    <tr>\n",
       "      <th>6</th>\n",
       "      <td>Documentary</td>\n",
       "      <td>3.933123</td>\n",
       "    </tr>\n",
       "    <tr>\n",
       "      <th>9</th>\n",
       "      <td>Film-Noir</td>\n",
       "      <td>4.075188</td>\n",
       "    </tr>\n",
       "  </tbody>\n",
       "</table>\n",
       "</div>"
      ],
      "text/plain": [
       "         Genres    Rating\n",
       "10       Horror  3.215013\n",
       "3    Children's  3.422035\n",
       "8       Fantasy  3.447371\n",
       "14       Sci-Fi  3.466521\n",
       "1     Adventure  3.477257\n",
       "0        Action  3.491185\n",
       "4        Comedy  3.522099\n",
       "15     Thriller  3.570466\n",
       "13      Romance  3.607465\n",
       "17      Western  3.637770\n",
       "11      Musical  3.665519\n",
       "12      Mystery  3.668102\n",
       "2     Animation  3.684868\n",
       "5         Crime  3.708679\n",
       "7         Drama  3.766332\n",
       "16          War  3.893327\n",
       "6   Documentary  3.933123\n",
       "9     Film-Noir  4.075188"
      ]
     },
     "execution_count": 257,
     "metadata": {},
     "output_type": "execute_result"
    }
   ],
   "source": [
    "df.groupby(['Genres']).agg({'Rating':'mean'}).reset_index().sort_values('Rating')"
   ]
  },
  {
   "cell_type": "code",
   "execution_count": 245,
   "id": "d1c36131-6034-4122-970e-af48d30b2924",
   "metadata": {},
   "outputs": [],
   "source": [
    "avg_genre_age_rating = df.groupby(['Genres','Age']).agg({'Rating':'mean'}).reset_index()"
   ]
  },
  {
   "cell_type": "code",
   "execution_count": 253,
   "id": "c322ca04-96b6-42a3-969f-8154a5ce8a3d",
   "metadata": {},
   "outputs": [
    {
     "data": {
      "image/png": "[encoded data removed]",
      "text/plain": [
       "<Figure size 1600x1000 with 1 Axes>"
      ]
     },
     "metadata": {},
     "output_type": "display_data"
    }
   ],
   "source": [
    "# Plot the age and genre relationship\n",
    "plt.figure(figsize=(16,10))\n",
    "sns.barplot(avg_genre_age_rating, x='Genres', y='Rating', hue='Age')\n",
    "plt.xticks(rotation=90)\n",
    "plt.title(\"Genres distribution according to Rating\")\n",
    "plt.show()"
   ]
  },
  {
   "cell_type": "markdown",
   "id": "cd37cd26-ade7-49b8-b7fe-fc0c948f45fc",
   "metadata": {},
   "source": [
    "    - Film-Noir is the highest rated Genre, followed by Documentary, War, Drama\n",
    "    - Horror, Children's genre is the least rated\n",
    "    - Action, Adventure, COmedy, Crime, Drama, Film-noir, Horror, Mystery, Sci-fi, Thriller, War and Western are popular among under 18 \n",
    "    than their counterpart 19-34 age group people\n",
    "    - War, Western, Romance, Musical, Drama and Documentary are most popular among the 56+ Age group"
   ]
  },
  {
   "cell_type": "code",
   "execution_count": 258,
   "id": "c8c1247e-9789-4f90-8e3d-e17b7e67ff7b",
   "metadata": {},
   "outputs": [],
   "source": [
    "avg_genre_gender_rating = df.groupby(['Genres','Gender']).agg({'Rating':'mean'}).reset_index()"
   ]
  },
  {
   "cell_type": "code",
   "execution_count": 260,
   "id": "b28a73c0-29ac-4ddc-8838-973fbff81057",
   "metadata": {},
   "outputs": [
    {
     "data": {
      "image/png": "[encoded data removed]",
      "text/plain": [
       "<Figure size 1600x1000 with 1 Axes>"
      ]
     },
     "metadata": {},
     "output_type": "display_data"
    }
   ],
   "source": [
    "# Plot the gender and genre relationship\n",
    "plt.figure(figsize=(16,10))\n",
    "sns.barplot(avg_genre_gender_rating, x='Genres', y='Rating', hue='Gender')\n",
    "plt.xticks(rotation=90)\n",
    "plt.title(\"Genres distribution according to Rating and Gender\")\n",
    "plt.show()"
   ]
  },
  {
   "cell_type": "markdown",
   "id": "1ead4643-9a39-4d87-aa9b-06ef771366f8",
   "metadata": {},
   "source": [
    "    - Western, Sci-Fi, Film-Noir, Horror, Crime are more popular in Males as compared to Females\n",
    "    - Adventure, Animation, Childern's, Comedy, Documentary, Musical, Mystery, Romance genres are more popular with Females"
   ]
  },
  {
   "cell_type": "code",
   "execution_count": 263,
   "id": "3b70cd09-a0b8-4df4-bc23-c74ff0170dd4",
   "metadata": {},
   "outputs": [],
   "source": [
    "avg_genre_decade = df.groupby(['Genres','Decade']).agg({'MovieID':'count'}).reset_index()"
   ]
  },
  {
   "cell_type": "code",
   "execution_count": 264,
   "id": "8d7f46d1-f0bd-4c7d-8b3b-c28cc24fa5c1",
   "metadata": {},
   "outputs": [
    {
     "data": {
      "text/html": [
       "<div>\n",
       "<style scoped>\n",
       "    .dataframe tbody tr th:only-of-type {\n",
       "        vertical-align: middle;\n",
       "    }\n",
       "\n",
       "    .dataframe tbody tr th {\n",
       "        vertical-align: top;\n",
       "    }\n",
       "\n",
       "    .dataframe thead th {\n",
       "        text-align: right;\n",
       "    }\n",
       "</style>\n",
       "<table border=\"1\" class=\"dataframe\">\n",
       "  <thead>\n",
       "    <tr style=\"text-align: right;\">\n",
       "      <th></th>\n",
       "      <th>Genres</th>\n",
       "      <th>Decade</th>\n",
       "      <th>MovieID</th>\n",
       "    </tr>\n",
       "  </thead>\n",
       "  <tbody>\n",
       "    <tr>\n",
       "      <th>0</th>\n",
       "      <td>Action</td>\n",
       "      <td>20s</td>\n",
       "      <td>66</td>\n",
       "    </tr>\n",
       "    <tr>\n",
       "      <th>1</th>\n",
       "      <td>Action</td>\n",
       "      <td>30s</td>\n",
       "      <td>1151</td>\n",
       "    </tr>\n",
       "    <tr>\n",
       "      <th>2</th>\n",
       "      <td>Action</td>\n",
       "      <td>40s</td>\n",
       "      <td>202</td>\n",
       "    </tr>\n",
       "    <tr>\n",
       "      <th>3</th>\n",
       "      <td>Action</td>\n",
       "      <td>50s</td>\n",
       "      <td>3985</td>\n",
       "    </tr>\n",
       "    <tr>\n",
       "      <th>4</th>\n",
       "      <td>Action</td>\n",
       "      <td>60s</td>\n",
       "      <td>9882</td>\n",
       "    </tr>\n",
       "    <tr>\n",
       "      <th>...</th>\n",
       "      <td>...</td>\n",
       "      <td>...</td>\n",
       "      <td>...</td>\n",
       "    </tr>\n",
       "    <tr>\n",
       "      <th>130</th>\n",
       "      <td>Western</td>\n",
       "      <td>50s</td>\n",
       "      <td>1147</td>\n",
       "    </tr>\n",
       "    <tr>\n",
       "      <th>131</th>\n",
       "      <td>Western</td>\n",
       "      <td>60s</td>\n",
       "      <td>5669</td>\n",
       "    </tr>\n",
       "    <tr>\n",
       "      <th>132</th>\n",
       "      <td>Western</td>\n",
       "      <td>70s</td>\n",
       "      <td>3468</td>\n",
       "    </tr>\n",
       "    <tr>\n",
       "      <th>133</th>\n",
       "      <td>Western</td>\n",
       "      <td>80s</td>\n",
       "      <td>4411</td>\n",
       "    </tr>\n",
       "    <tr>\n",
       "      <th>134</th>\n",
       "      <td>Western</td>\n",
       "      <td>90s</td>\n",
       "      <td>5754</td>\n",
       "    </tr>\n",
       "  </tbody>\n",
       "</table>\n",
       "<p>135 rows × 3 columns</p>\n",
       "</div>"
      ],
      "text/plain": [
       "      Genres Decade  MovieID\n",
       "0     Action    20s       66\n",
       "1     Action    30s     1151\n",
       "2     Action    40s      202\n",
       "3     Action    50s     3985\n",
       "4     Action    60s     9882\n",
       "..       ...    ...      ...\n",
       "130  Western    50s     1147\n",
       "131  Western    60s     5669\n",
       "132  Western    70s     3468\n",
       "133  Western    80s     4411\n",
       "134  Western    90s     5754\n",
       "\n",
       "[135 rows x 3 columns]"
      ]
     },
     "execution_count": 264,
     "metadata": {},
     "output_type": "execute_result"
    }
   ],
   "source": [
    "avg_genre_decade"
   ]
  },
  {
   "cell_type": "code",
   "execution_count": 265,
   "id": "5dda0f4f-fe35-4c43-b0c6-1635b9835ad7",
   "metadata": {},
   "outputs": [
    {
     "data": {
      "image/png": "[encoded data removed]",
      "text/plain": [
       "<Figure size 1600x1000 with 1 Axes>"
      ]
     },
     "metadata": {},
     "output_type": "display_data"
    }
   ],
   "source": [
    "# Plot the genre and movies release relationship\n",
    "plt.figure(figsize=(16,10))\n",
    "sns.barplot(avg_genre_decade, x='Genres', y='MovieID', hue='Decade')\n",
    "plt.xticks(rotation=90)\n",
    "plt.title(\"Genres distribution according to Movies released over Decades\")\n",
    "plt.show()"
   ]
  },
  {
   "cell_type": "markdown",
   "id": "3c357dbd-368f-468f-8165-396b7dd0db77",
   "metadata": {},
   "source": [
    "    - Most Comedy, Drama, Action, Thriller, Sci-Fi movies were released in the 90s\n",
    "    - More Fantasy and Film Noir movies were released during the 80s"
   ]
  },
  {
   "cell_type": "code",
   "execution_count": 275,
   "id": "02fe4780-bc6b-49cb-8435-4da2dd0e2a2d",
   "metadata": {},
   "outputs": [
    {
     "data": {
      "text/plain": [
       "Index(['MovieID', 'Title', 'Genres', 'Release_year', 'Decade', 'UserID',\n",
       "       'Rating', 'Timestamp', 'Gender', 'Age', 'Occupation', 'Zip-code'],\n",
       "      dtype='object')"
      ]
     },
     "execution_count": 275,
     "metadata": {},
     "output_type": "execute_result"
    }
   ],
   "source": [
    "# Users of Age group and the movies watched and Rated\n",
    "df.columns"
   ]
  },
  {
   "cell_type": "code",
   "execution_count": 279,
   "id": "4d50e6e0-7da3-4416-9773-76050e4f1468",
   "metadata": {},
   "outputs": [
    {
     "data": {
      "text/html": [
       "<div>\n",
       "<style scoped>\n",
       "    .dataframe tbody tr th:only-of-type {\n",
       "        vertical-align: middle;\n",
       "    }\n",
       "\n",
       "    .dataframe tbody tr th {\n",
       "        vertical-align: top;\n",
       "    }\n",
       "\n",
       "    .dataframe thead th {\n",
       "        text-align: right;\n",
       "    }\n",
       "</style>\n",
       "<table border=\"1\" class=\"dataframe\">\n",
       "  <thead>\n",
       "    <tr style=\"text-align: right;\">\n",
       "      <th></th>\n",
       "      <th>Title</th>\n",
       "      <th>Age</th>\n",
       "      <th>Rating</th>\n",
       "      <th>MovieID</th>\n",
       "    </tr>\n",
       "  </thead>\n",
       "  <tbody>\n",
       "    <tr>\n",
       "      <th>18903</th>\n",
       "      <td>Star Wars: Episode V - The Empire Strikes Back</td>\n",
       "      <td>25</td>\n",
       "      <td>5880</td>\n",
       "      <td>5880</td>\n",
       "    </tr>\n",
       "    <tr>\n",
       "      <th>18910</th>\n",
       "      <td>Star Wars: Episode VI - Return of the Jedi</td>\n",
       "      <td>25</td>\n",
       "      <td>5670</td>\n",
       "      <td>5670</td>\n",
       "    </tr>\n",
       "    <tr>\n",
       "      <th>18896</th>\n",
       "      <td>Star Wars: Episode IV - A New Hope</td>\n",
       "      <td>25</td>\n",
       "      <td>4512</td>\n",
       "      <td>4512</td>\n",
       "    </tr>\n",
       "    <tr>\n",
       "      <th>15927</th>\n",
       "      <td>Princess Bride, The</td>\n",
       "      <td>25</td>\n",
       "      <td>3920</td>\n",
       "      <td>3920</td>\n",
       "    </tr>\n",
       "    <tr>\n",
       "      <th>12794</th>\n",
       "      <td>Men in Black</td>\n",
       "      <td>25</td>\n",
       "      <td>3884</td>\n",
       "      <td>3884</td>\n",
       "    </tr>\n",
       "    <tr>\n",
       "      <th>...</th>\n",
       "      <td>...</td>\n",
       "      <td>...</td>\n",
       "      <td>...</td>\n",
       "      <td>...</td>\n",
       "    </tr>\n",
       "    <tr>\n",
       "      <th>2697</th>\n",
       "      <td>Bloodsport</td>\n",
       "      <td>1</td>\n",
       "      <td>1</td>\n",
       "      <td>1</td>\n",
       "    </tr>\n",
       "    <tr>\n",
       "      <th>9265</th>\n",
       "      <td>Hideous Kinky</td>\n",
       "      <td>1</td>\n",
       "      <td>1</td>\n",
       "      <td>1</td>\n",
       "    </tr>\n",
       "    <tr>\n",
       "      <th>9264</th>\n",
       "      <td>Hideaway</td>\n",
       "      <td>56</td>\n",
       "      <td>1</td>\n",
       "      <td>1</td>\n",
       "    </tr>\n",
       "    <tr>\n",
       "      <th>5495</th>\n",
       "      <td>Designated Mourner, The</td>\n",
       "      <td>45</td>\n",
       "      <td>1</td>\n",
       "      <td>1</td>\n",
       "    </tr>\n",
       "    <tr>\n",
       "      <th>5669</th>\n",
       "      <td>Dinner Game, The (Le Dîner de cons)</td>\n",
       "      <td>1</td>\n",
       "      <td>1</td>\n",
       "      <td>1</td>\n",
       "    </tr>\n",
       "  </tbody>\n",
       "</table>\n",
       "<p>22180 rows × 4 columns</p>\n",
       "</div>"
      ],
      "text/plain": [
       "                                                Title  Age  Rating  MovieID\n",
       "18903  Star Wars: Episode V - The Empire Strikes Back   25    5880     5880\n",
       "18910      Star Wars: Episode VI - Return of the Jedi   25    5670     5670\n",
       "18896              Star Wars: Episode IV - A New Hope   25    4512     4512\n",
       "15927                             Princess Bride, The   25    3920     3920\n",
       "12794                                    Men in Black   25    3884     3884\n",
       "...                                               ...  ...     ...      ...\n",
       "2697                                       Bloodsport    1       1        1\n",
       "9265                                    Hideous Kinky    1       1        1\n",
       "9264                                         Hideaway   56       1        1\n",
       "5495                          Designated Mourner, The   45       1        1\n",
       "5669              Dinner Game, The (Le Dîner de cons)    1       1        1\n",
       "\n",
       "[22180 rows x 4 columns]"
      ]
     },
     "execution_count": 279,
     "metadata": {},
     "output_type": "execute_result"
    }
   ],
   "source": [
    "df.groupby(['Title', 'Age']).agg({'Rating':'count', 'MovieID':\"count\"}).reset_index().sort_values(by='Rating', ascending=False)"
   ]
  },
  {
   "cell_type": "markdown",
   "id": "f07626b0-5366-4a7f-b718-11d150b1f5c6",
   "metadata": {},
   "source": [
    "    - 25-34 Age group has watched maximum movies and have rated the most number of movies"
   ]
  },
  {
   "cell_type": "code",
   "execution_count": 281,
   "id": "01536952-e273-4a2a-8afa-1d032e3e231f",
   "metadata": {},
   "outputs": [
    {
     "data": {
      "text/html": [
       "<div>\n",
       "<style scoped>\n",
       "    .dataframe tbody tr th:only-of-type {\n",
       "        vertical-align: middle;\n",
       "    }\n",
       "\n",
       "    .dataframe tbody tr th {\n",
       "        vertical-align: top;\n",
       "    }\n",
       "\n",
       "    .dataframe thead th {\n",
       "        text-align: right;\n",
       "    }\n",
       "</style>\n",
       "<table border=\"1\" class=\"dataframe\">\n",
       "  <thead>\n",
       "    <tr style=\"text-align: right;\">\n",
       "      <th></th>\n",
       "      <th>Title</th>\n",
       "      <th>Occupation</th>\n",
       "      <th>Rating</th>\n",
       "      <th>MovieID</th>\n",
       "    </tr>\n",
       "  </thead>\n",
       "  <tbody>\n",
       "    <tr>\n",
       "      <th>49951</th>\n",
       "      <td>Star Wars: Episode VI - Return of the Jedi</td>\n",
       "      <td>College/Grad Student</td>\n",
       "      <td>2105</td>\n",
       "      <td>2105</td>\n",
       "    </tr>\n",
       "    <tr>\n",
       "      <th>49930</th>\n",
       "      <td>Star Wars: Episode V - The Empire Strikes Back</td>\n",
       "      <td>College/Grad Student</td>\n",
       "      <td>2055</td>\n",
       "      <td>2055</td>\n",
       "    </tr>\n",
       "    <tr>\n",
       "      <th>49933</th>\n",
       "      <td>Star Wars: Episode V - The Empire Strikes Back</td>\n",
       "      <td>Executive/Managerial</td>\n",
       "      <td>1695</td>\n",
       "      <td>1695</td>\n",
       "    </tr>\n",
       "    <tr>\n",
       "      <th>49954</th>\n",
       "      <td>Star Wars: Episode VI - Return of the Jedi</td>\n",
       "      <td>Executive/Managerial</td>\n",
       "      <td>1665</td>\n",
       "      <td>1665</td>\n",
       "    </tr>\n",
       "    <tr>\n",
       "      <th>49938</th>\n",
       "      <td>Star Wars: Episode V - The Empire Strikes Back</td>\n",
       "      <td>Other or not specified</td>\n",
       "      <td>1660</td>\n",
       "      <td>1660</td>\n",
       "    </tr>\n",
       "    <tr>\n",
       "      <th>...</th>\n",
       "      <td>...</td>\n",
       "      <td>...</td>\n",
       "      <td>...</td>\n",
       "      <td>...</td>\n",
       "    </tr>\n",
       "    <tr>\n",
       "      <th>21593</th>\n",
       "      <td>God Said 'Ha!'</td>\n",
       "      <td>Programmer</td>\n",
       "      <td>1</td>\n",
       "      <td>1</td>\n",
       "    </tr>\n",
       "    <tr>\n",
       "      <th>3717</th>\n",
       "      <td>At First Sight</td>\n",
       "      <td>Tradesman/Craftsman</td>\n",
       "      <td>1</td>\n",
       "      <td>1</td>\n",
       "    </tr>\n",
       "    <tr>\n",
       "      <th>21594</th>\n",
       "      <td>God Said 'Ha!'</td>\n",
       "      <td>Scientist</td>\n",
       "      <td>1</td>\n",
       "      <td>1</td>\n",
       "    </tr>\n",
       "    <tr>\n",
       "      <th>10129</th>\n",
       "      <td>Champ, The</td>\n",
       "      <td>Clerical/Admin</td>\n",
       "      <td>1</td>\n",
       "      <td>1</td>\n",
       "    </tr>\n",
       "    <tr>\n",
       "      <th>31509</th>\n",
       "      <td>Love &amp; Human Remains</td>\n",
       "      <td>Executive/Managerial</td>\n",
       "      <td>1</td>\n",
       "      <td>1</td>\n",
       "    </tr>\n",
       "  </tbody>\n",
       "</table>\n",
       "<p>58393 rows × 4 columns</p>\n",
       "</div>"
      ],
      "text/plain": [
       "                                                Title              Occupation  \\\n",
       "49951      Star Wars: Episode VI - Return of the Jedi    College/Grad Student   \n",
       "49930  Star Wars: Episode V - The Empire Strikes Back    College/Grad Student   \n",
       "49933  Star Wars: Episode V - The Empire Strikes Back    Executive/Managerial   \n",
       "49954      Star Wars: Episode VI - Return of the Jedi    Executive/Managerial   \n",
       "49938  Star Wars: Episode V - The Empire Strikes Back  Other or not specified   \n",
       "...                                               ...                     ...   \n",
       "21593                                  God Said 'Ha!'              Programmer   \n",
       "3717                                   At First Sight     Tradesman/Craftsman   \n",
       "21594                                  God Said 'Ha!'               Scientist   \n",
       "10129                                      Champ, The          Clerical/Admin   \n",
       "31509                            Love & Human Remains    Executive/Managerial   \n",
       "\n",
       "       Rating  MovieID  \n",
       "49951    2105     2105  \n",
       "49930    2055     2055  \n",
       "49933    1695     1695  \n",
       "49954    1665     1665  \n",
       "49938    1660     1660  \n",
       "...       ...      ...  \n",
       "21593       1        1  \n",
       "3717        1        1  \n",
       "21594       1        1  \n",
       "10129       1        1  \n",
       "31509       1        1  \n",
       "\n",
       "[58393 rows x 4 columns]"
      ]
     },
     "execution_count": 281,
     "metadata": {},
     "output_type": "execute_result"
    }
   ],
   "source": [
    "df.groupby(['Title', 'Occupation']).agg({'Rating':'count', 'MovieID':\"count\"}).reset_index().sort_values(by='Rating', ascending=False)"
   ]
  },
  {
   "cell_type": "markdown",
   "id": "41c86e72-bcac-492b-83f4-2b999ef866dc",
   "metadata": {},
   "source": [
    "    - Most of the College/Grad Students have watched and rated most movies"
   ]
  },
  {
   "cell_type": "code",
   "execution_count": 282,
   "id": "c8113588-f127-471b-a955-9a0ee6ab08a5",
   "metadata": {},
   "outputs": [
    {
     "data": {
      "text/html": [
       "<div>\n",
       "<style scoped>\n",
       "    .dataframe tbody tr th:only-of-type {\n",
       "        vertical-align: middle;\n",
       "    }\n",
       "\n",
       "    .dataframe tbody tr th {\n",
       "        vertical-align: top;\n",
       "    }\n",
       "\n",
       "    .dataframe thead th {\n",
       "        text-align: right;\n",
       "    }\n",
       "</style>\n",
       "<table border=\"1\" class=\"dataframe\">\n",
       "  <thead>\n",
       "    <tr style=\"text-align: right;\">\n",
       "      <th></th>\n",
       "      <th>Title</th>\n",
       "      <th>Gender</th>\n",
       "      <th>Rating</th>\n",
       "    </tr>\n",
       "  </thead>\n",
       "  <tbody>\n",
       "    <tr>\n",
       "      <th>6025</th>\n",
       "      <td>Star Wars: Episode V - The Empire Strikes Back</td>\n",
       "      <td>M</td>\n",
       "      <td>11710</td>\n",
       "    </tr>\n",
       "    <tr>\n",
       "      <th>6027</th>\n",
       "      <td>Star Wars: Episode VI - Return of the Jedi</td>\n",
       "      <td>M</td>\n",
       "      <td>11150</td>\n",
       "    </tr>\n",
       "    <tr>\n",
       "      <th>6023</th>\n",
       "      <td>Star Wars: Episode IV - A New Hope</td>\n",
       "      <td>M</td>\n",
       "      <td>9376</td>\n",
       "    </tr>\n",
       "    <tr>\n",
       "      <th>4086</th>\n",
       "      <td>Men in Black</td>\n",
       "      <td>M</td>\n",
       "      <td>8000</td>\n",
       "    </tr>\n",
       "    <tr>\n",
       "      <th>6021</th>\n",
       "      <td>Star Wars: Episode I - The Phantom Menace</td>\n",
       "      <td>M</td>\n",
       "      <td>7136</td>\n",
       "    </tr>\n",
       "    <tr>\n",
       "      <th>...</th>\n",
       "      <td>...</td>\n",
       "      <td>...</td>\n",
       "      <td>...</td>\n",
       "    </tr>\n",
       "    <tr>\n",
       "      <th>4344</th>\n",
       "      <td>Mutters Courage</td>\n",
       "      <td>M</td>\n",
       "      <td>1</td>\n",
       "    </tr>\n",
       "    <tr>\n",
       "      <th>6437</th>\n",
       "      <td>Tinseltown</td>\n",
       "      <td>M</td>\n",
       "      <td>1</td>\n",
       "    </tr>\n",
       "    <tr>\n",
       "      <th>5892</th>\n",
       "      <td>Song of Freedom</td>\n",
       "      <td>F</td>\n",
       "      <td>1</td>\n",
       "    </tr>\n",
       "    <tr>\n",
       "      <th>5895</th>\n",
       "      <td>Sonic Outlaws</td>\n",
       "      <td>F</td>\n",
       "      <td>1</td>\n",
       "    </tr>\n",
       "    <tr>\n",
       "      <th>6643</th>\n",
       "      <td>Under Capricorn</td>\n",
       "      <td>F</td>\n",
       "      <td>1</td>\n",
       "    </tr>\n",
       "  </tbody>\n",
       "</table>\n",
       "<p>7068 rows × 3 columns</p>\n",
       "</div>"
      ],
      "text/plain": [
       "                                               Title Gender  Rating\n",
       "6025  Star Wars: Episode V - The Empire Strikes Back      M   11710\n",
       "6027      Star Wars: Episode VI - Return of the Jedi      M   11150\n",
       "6023              Star Wars: Episode IV - A New Hope      M    9376\n",
       "4086                                    Men in Black      M    8000\n",
       "6021       Star Wars: Episode I - The Phantom Menace      M    7136\n",
       "...                                              ...    ...     ...\n",
       "4344                                 Mutters Courage      M       1\n",
       "6437                                      Tinseltown      M       1\n",
       "5892                                 Song of Freedom      F       1\n",
       "5895                                   Sonic Outlaws      F       1\n",
       "6643                                 Under Capricorn      F       1\n",
       "\n",
       "[7068 rows x 3 columns]"
      ]
     },
     "execution_count": 282,
     "metadata": {},
     "output_type": "execute_result"
    }
   ],
   "source": [
    "df.groupby(['Title', 'Gender']).agg({'Rating':'count'}).reset_index().sort_values(by='Rating', ascending=False)"
   ]
  },
  {
   "cell_type": "markdown",
   "id": "96a183ad-675a-4253-9980-30395c5a3818",
   "metadata": {},
   "source": [
    "    - Most of the Male users have rated the movies in our Dataset"
   ]
  },
  {
   "cell_type": "markdown",
   "id": "e1369603-b3bc-4972-aad9-896d65a19c07",
   "metadata": {},
   "source": [
    "#### Insights:\n",
    "- Ratings of the movies usually lie between 3-4. Hence, the recommendations will always be average\n",
    "- There is minimum participation of people from the Age group Under18, 56+ and 45 above, this can create bias\n",
    "- Users in Age group 45+ tend to rate higher as compared to their younger counterparts\n",
    "- The data is huge, hence we might face memory constraints"
   ]
  },
  {
   "cell_type": "markdown",
   "id": "d99a98fc-a462-4fd1-89a0-56e5559071a1",
   "metadata": {},
   "source": [
    "### Data Pre-processing"
   ]
  },
  {
   "cell_type": "code",
   "execution_count": 283,
   "id": "30b7ecb1-28d4-485c-b6b8-dc6d4f8b92c1",
   "metadata": {},
   "outputs": [],
   "source": [
    "# Keep the unique datapoints only\n",
    "df = df.drop_duplicates(subset=['MovieID',\"Title\",\"UserID\",'Timestamp','Release_year']).reset_index(drop = True)"
   ]
  },
  {
   "cell_type": "code",
   "execution_count": 284,
   "id": "498a2264-ffe9-428b-9cb2-9308487904d9",
   "metadata": {},
   "outputs": [
    {
     "name": "stdout",
     "output_type": "stream",
     "text": [
      "Final merged Dataframe = (1000209, 12)\n"
     ]
    }
   ],
   "source": [
    "print(f\"Final merged Dataframe = {df.shape}\")"
   ]
  },
  {
   "cell_type": "code",
   "execution_count": 285,
   "id": "52df3fac-ad27-48e7-ab6e-a17c5874a905",
   "metadata": {},
   "outputs": [
    {
     "name": "stdout",
     "output_type": "stream",
     "text": [
      "<class 'pandas.core.frame.DataFrame'>\n",
      "RangeIndex: 1000209 entries, 0 to 1000208\n",
      "Data columns (total 12 columns):\n",
      " #   Column        Non-Null Count    Dtype         \n",
      "---  ------        --------------    -----         \n",
      " 0   MovieID       1000209 non-null  int64         \n",
      " 1   Title         1000209 non-null  object        \n",
      " 2   Genres        1000209 non-null  object        \n",
      " 3   Release_year  1000209 non-null  int64         \n",
      " 4   Decade        1000209 non-null  object        \n",
      " 5   UserID        1000209 non-null  int64         \n",
      " 6   Rating        1000209 non-null  int64         \n",
      " 7   Timestamp     1000209 non-null  datetime64[ns]\n",
      " 8   Gender        1000209 non-null  object        \n",
      " 9   Age           1000209 non-null  int64         \n",
      " 10  Occupation    1000209 non-null  object        \n",
      " 11  Zip-code      1000209 non-null  object        \n",
      "dtypes: datetime64[ns](1), int64(5), object(6)\n",
      "memory usage: 91.6+ MB\n"
     ]
    }
   ],
   "source": [
    "df.info()\n",
    "# No missing values in the data"
   ]
  },
  {
   "cell_type": "code",
   "execution_count": 296,
   "id": "4d8cf7a1-8e7d-433f-ac86-5bbf7ec0ed38",
   "metadata": {},
   "outputs": [
    {
     "data": {
      "text/html": [
       "<div>\n",
       "<style scoped>\n",
       "    .dataframe tbody tr th:only-of-type {\n",
       "        vertical-align: middle;\n",
       "    }\n",
       "\n",
       "    .dataframe tbody tr th {\n",
       "        vertical-align: top;\n",
       "    }\n",
       "\n",
       "    .dataframe thead th {\n",
       "        text-align: right;\n",
       "    }\n",
       "</style>\n",
       "<table border=\"1\" class=\"dataframe\">\n",
       "  <thead>\n",
       "    <tr style=\"text-align: right;\">\n",
       "      <th></th>\n",
       "      <th>Title</th>\n",
       "      <th>MovieID</th>\n",
       "      <th>Rating</th>\n",
       "    </tr>\n",
       "  </thead>\n",
       "  <tbody>\n",
       "    <tr>\n",
       "      <th>127</th>\n",
       "      <td>American Beauty</td>\n",
       "      <td>2858</td>\n",
       "      <td>3428</td>\n",
       "    </tr>\n",
       "    <tr>\n",
       "      <th>3153</th>\n",
       "      <td>Star Wars: Episode IV - A New Hope</td>\n",
       "      <td>260</td>\n",
       "      <td>2991</td>\n",
       "    </tr>\n",
       "    <tr>\n",
       "      <th>3154</th>\n",
       "      <td>Star Wars: Episode V - The Empire Strikes Back</td>\n",
       "      <td>1196</td>\n",
       "      <td>2990</td>\n",
       "    </tr>\n",
       "    <tr>\n",
       "      <th>3155</th>\n",
       "      <td>Star Wars: Episode VI - Return of the Jedi</td>\n",
       "      <td>1210</td>\n",
       "      <td>2883</td>\n",
       "    </tr>\n",
       "    <tr>\n",
       "      <th>1789</th>\n",
       "      <td>Jurassic Park</td>\n",
       "      <td>480</td>\n",
       "      <td>2672</td>\n",
       "    </tr>\n",
       "    <tr>\n",
       "      <th>...</th>\n",
       "      <td>...</td>\n",
       "      <td>...</td>\n",
       "      <td>...</td>\n",
       "    </tr>\n",
       "    <tr>\n",
       "      <th>3274</th>\n",
       "      <td>Target</td>\n",
       "      <td>139</td>\n",
       "      <td>1</td>\n",
       "    </tr>\n",
       "    <tr>\n",
       "      <th>1625</th>\n",
       "      <td>I Don't Want to Talk About It (De eso no se ha...</td>\n",
       "      <td>584</td>\n",
       "      <td>1</td>\n",
       "    </tr>\n",
       "    <tr>\n",
       "      <th>156</th>\n",
       "      <td>An Unforgettable Summer</td>\n",
       "      <td>790</td>\n",
       "      <td>1</td>\n",
       "    </tr>\n",
       "    <tr>\n",
       "      <th>2343</th>\n",
       "      <td>Never Met Picasso</td>\n",
       "      <td>1714</td>\n",
       "      <td>1</td>\n",
       "    </tr>\n",
       "    <tr>\n",
       "      <th>1276</th>\n",
       "      <td>Full Speed</td>\n",
       "      <td>1724</td>\n",
       "      <td>1</td>\n",
       "    </tr>\n",
       "  </tbody>\n",
       "</table>\n",
       "<p>3706 rows × 3 columns</p>\n",
       "</div>"
      ],
      "text/plain": [
       "                                                  Title  MovieID  Rating\n",
       "127                                     American Beauty     2858    3428\n",
       "3153                 Star Wars: Episode IV - A New Hope      260    2991\n",
       "3154     Star Wars: Episode V - The Empire Strikes Back     1196    2990\n",
       "3155         Star Wars: Episode VI - Return of the Jedi     1210    2883\n",
       "1789                                      Jurassic Park      480    2672\n",
       "...                                                 ...      ...     ...\n",
       "3274                                             Target      139       1\n",
       "1625  I Don't Want to Talk About It (De eso no se ha...      584       1\n",
       "156                             An Unforgettable Summer      790       1\n",
       "2343                                  Never Met Picasso     1714       1\n",
       "1276                                         Full Speed     1724       1\n",
       "\n",
       "[3706 rows x 3 columns]"
      ]
     },
     "execution_count": 296,
     "metadata": {},
     "output_type": "execute_result"
    }
   ],
   "source": [
    "# Find the movie with maximum number of Ratings\n",
    "df.groupby(['Title', 'MovieID']).agg({'Rating':'count'}).reset_index().sort_values('Rating', ascending=False)"
   ]
  },
  {
   "cell_type": "markdown",
   "id": "ab8f5033-ce65-49e7-ad5e-df02b12ecb2a",
   "metadata": {},
   "source": [
    "    - American Beauty is the movie with maximum ratings"
   ]
  },
  {
   "cell_type": "markdown",
   "id": "7d326633-9a6b-455b-80e8-abb4a8a31f6c",
   "metadata": {},
   "source": [
    "### Group the Dataframe according to the average Rating of the movies and their number of ratings"
   ]
  },
  {
   "cell_type": "code",
   "execution_count": 310,
   "id": "6848e426-b4bb-43ac-abf6-8685a29cfe6f",
   "metadata": {},
   "outputs": [],
   "source": [
    "title_details = df.groupby(['MovieID', 'Title']).agg({'Rating':['mean', 'count']}).reset_index()"
   ]
  },
  {
   "cell_type": "code",
   "execution_count": 317,
   "id": "9ec5c256-78e0-497f-a65d-f2dc478bcdb2",
   "metadata": {},
   "outputs": [],
   "source": [
    "title_details.columns = ['MovieID', 'Title', 'Rating Avg', 'Rating Count']"
   ]
  },
  {
   "cell_type": "code",
   "execution_count": 319,
   "id": "3c235d8b-c12f-40bc-8c22-a5d7a0edc01a",
   "metadata": {},
   "outputs": [],
   "source": [
    "title_details['Rating Avg'] = title_details['Rating Avg'].round(2)"
   ]
  },
  {
   "cell_type": "code",
   "execution_count": 320,
   "id": "55c0013c-668c-4a7a-be60-1a2206256275",
   "metadata": {},
   "outputs": [
    {
     "data": {
      "text/html": [
       "<div>\n",
       "<style scoped>\n",
       "    .dataframe tbody tr th:only-of-type {\n",
       "        vertical-align: middle;\n",
       "    }\n",
       "\n",
       "    .dataframe tbody tr th {\n",
       "        vertical-align: top;\n",
       "    }\n",
       "\n",
       "    .dataframe thead th {\n",
       "        text-align: right;\n",
       "    }\n",
       "</style>\n",
       "<table border=\"1\" class=\"dataframe\">\n",
       "  <thead>\n",
       "    <tr style=\"text-align: right;\">\n",
       "      <th></th>\n",
       "      <th>MovieID</th>\n",
       "      <th>Title</th>\n",
       "      <th>Rating Avg</th>\n",
       "      <th>Rating Count</th>\n",
       "    </tr>\n",
       "  </thead>\n",
       "  <tbody>\n",
       "    <tr>\n",
       "      <th>0</th>\n",
       "      <td>1</td>\n",
       "      <td>Toy Story</td>\n",
       "      <td>4.15</td>\n",
       "      <td>2077</td>\n",
       "    </tr>\n",
       "    <tr>\n",
       "      <th>1</th>\n",
       "      <td>2</td>\n",
       "      <td>Jumanji</td>\n",
       "      <td>3.20</td>\n",
       "      <td>701</td>\n",
       "    </tr>\n",
       "    <tr>\n",
       "      <th>2</th>\n",
       "      <td>3</td>\n",
       "      <td>Grumpier Old Men</td>\n",
       "      <td>3.02</td>\n",
       "      <td>478</td>\n",
       "    </tr>\n",
       "    <tr>\n",
       "      <th>3</th>\n",
       "      <td>4</td>\n",
       "      <td>Waiting to Exhale</td>\n",
       "      <td>2.73</td>\n",
       "      <td>170</td>\n",
       "    </tr>\n",
       "    <tr>\n",
       "      <th>4</th>\n",
       "      <td>5</td>\n",
       "      <td>Father of the Bride Part II</td>\n",
       "      <td>3.01</td>\n",
       "      <td>296</td>\n",
       "    </tr>\n",
       "    <tr>\n",
       "      <th>...</th>\n",
       "      <td>...</td>\n",
       "      <td>...</td>\n",
       "      <td>...</td>\n",
       "      <td>...</td>\n",
       "    </tr>\n",
       "    <tr>\n",
       "      <th>3701</th>\n",
       "      <td>3948</td>\n",
       "      <td>Meet the Parents</td>\n",
       "      <td>3.64</td>\n",
       "      <td>862</td>\n",
       "    </tr>\n",
       "    <tr>\n",
       "      <th>3702</th>\n",
       "      <td>3949</td>\n",
       "      <td>Requiem for a Dream</td>\n",
       "      <td>4.12</td>\n",
       "      <td>304</td>\n",
       "    </tr>\n",
       "    <tr>\n",
       "      <th>3703</th>\n",
       "      <td>3950</td>\n",
       "      <td>Tigerland</td>\n",
       "      <td>3.67</td>\n",
       "      <td>54</td>\n",
       "    </tr>\n",
       "    <tr>\n",
       "      <th>3704</th>\n",
       "      <td>3951</td>\n",
       "      <td>Two Family House</td>\n",
       "      <td>3.90</td>\n",
       "      <td>40</td>\n",
       "    </tr>\n",
       "    <tr>\n",
       "      <th>3705</th>\n",
       "      <td>3952</td>\n",
       "      <td>Contender, The</td>\n",
       "      <td>3.78</td>\n",
       "      <td>388</td>\n",
       "    </tr>\n",
       "  </tbody>\n",
       "</table>\n",
       "<p>3706 rows × 4 columns</p>\n",
       "</div>"
      ],
      "text/plain": [
       "      MovieID                        Title  Rating Avg  Rating Count\n",
       "0           1                    Toy Story        4.15          2077\n",
       "1           2                      Jumanji        3.20           701\n",
       "2           3             Grumpier Old Men        3.02           478\n",
       "3           4            Waiting to Exhale        2.73           170\n",
       "4           5  Father of the Bride Part II        3.01           296\n",
       "...       ...                          ...         ...           ...\n",
       "3701     3948             Meet the Parents        3.64           862\n",
       "3702     3949          Requiem for a Dream        4.12           304\n",
       "3703     3950                    Tigerland        3.67            54\n",
       "3704     3951             Two Family House        3.90            40\n",
       "3705     3952               Contender, The        3.78           388\n",
       "\n",
       "[3706 rows x 4 columns]"
      ]
     },
     "execution_count": 320,
     "metadata": {},
     "output_type": "execute_result"
    }
   ],
   "source": [
    "title_details"
   ]
  },
  {
   "cell_type": "markdown",
   "id": "b488cb9f-f1be-4fa1-ac51-33052ae720c4",
   "metadata": {},
   "source": [
    "## Pivot Table UserID vs Movie Title"
   ]
  },
  {
   "cell_type": "code",
   "execution_count": 321,
   "id": "f5bf6c12-fc34-4d6c-8b80-bd7d955b7fdc",
   "metadata": {},
   "outputs": [],
   "source": [
    "# Copy the merged final dataframe into new\n",
    "df_copy = df.copy()"
   ]
  },
  {
   "cell_type": "code",
   "execution_count": 322,
   "id": "5fb4639d-3c66-4d73-a48b-7bf228f184f3",
   "metadata": {},
   "outputs": [
    {
     "data": {
      "text/html": [
       "<div>\n",
       "<style scoped>\n",
       "    .dataframe tbody tr th:only-of-type {\n",
       "        vertical-align: middle;\n",
       "    }\n",
       "\n",
       "    .dataframe tbody tr th {\n",
       "        vertical-align: top;\n",
       "    }\n",
       "\n",
       "    .dataframe thead th {\n",
       "        text-align: right;\n",
       "    }\n",
       "</style>\n",
       "<table border=\"1\" class=\"dataframe\">\n",
       "  <thead>\n",
       "    <tr style=\"text-align: right;\">\n",
       "      <th></th>\n",
       "      <th>MovieID</th>\n",
       "      <th>Title</th>\n",
       "      <th>Genres</th>\n",
       "      <th>Release_year</th>\n",
       "      <th>Decade</th>\n",
       "      <th>UserID</th>\n",
       "      <th>Rating</th>\n",
       "      <th>Timestamp</th>\n",
       "      <th>Gender</th>\n",
       "      <th>Age</th>\n",
       "      <th>Occupation</th>\n",
       "      <th>Zip-code</th>\n",
       "    </tr>\n",
       "  </thead>\n",
       "  <tbody>\n",
       "    <tr>\n",
       "      <th>549457</th>\n",
       "      <td>2702</td>\n",
       "      <td>Summer of Sam</td>\n",
       "      <td>Drama</td>\n",
       "      <td>1999</td>\n",
       "      <td>90s</td>\n",
       "      <td>5738</td>\n",
       "      <td>2</td>\n",
       "      <td>2000-05-15 19:27:26</td>\n",
       "      <td>M</td>\n",
       "      <td>25</td>\n",
       "      <td>Programmer</td>\n",
       "      <td>55406</td>\n",
       "    </tr>\n",
       "    <tr>\n",
       "      <th>149365</th>\n",
       "      <td>329</td>\n",
       "      <td>Star Trek: Generations</td>\n",
       "      <td>Action</td>\n",
       "      <td>1994</td>\n",
       "      <td>90s</td>\n",
       "      <td>1545</td>\n",
       "      <td>2</td>\n",
       "      <td>2000-11-20 18:42:49</td>\n",
       "      <td>M</td>\n",
       "      <td>25</td>\n",
       "      <td>Writer</td>\n",
       "      <td>20009</td>\n",
       "    </tr>\n",
       "    <tr>\n",
       "      <th>339635</th>\n",
       "      <td>1275</td>\n",
       "      <td>Highlander</td>\n",
       "      <td>Action</td>\n",
       "      <td>1986</td>\n",
       "      <td>80s</td>\n",
       "      <td>3589</td>\n",
       "      <td>4</td>\n",
       "      <td>2000-08-19 03:13:42</td>\n",
       "      <td>F</td>\n",
       "      <td>45</td>\n",
       "      <td>Other or not specified</td>\n",
       "      <td>80010</td>\n",
       "    </tr>\n",
       "    <tr>\n",
       "      <th>583922</th>\n",
       "      <td>441</td>\n",
       "      <td>Dazed and Confused</td>\n",
       "      <td>Comedy</td>\n",
       "      <td>1993</td>\n",
       "      <td>90s</td>\n",
       "      <td>1168</td>\n",
       "      <td>3</td>\n",
       "      <td>2000-11-22 22:49:43</td>\n",
       "      <td>F</td>\n",
       "      <td>25</td>\n",
       "      <td>Other or not specified</td>\n",
       "      <td>94109</td>\n",
       "    </tr>\n",
       "    <tr>\n",
       "      <th>131911</th>\n",
       "      <td>273</td>\n",
       "      <td>Mary Shelley's Frankenstein</td>\n",
       "      <td>Drama</td>\n",
       "      <td>1994</td>\n",
       "      <td>90s</td>\n",
       "      <td>1354</td>\n",
       "      <td>3</td>\n",
       "      <td>2000-12-31 21:46:05</td>\n",
       "      <td>F</td>\n",
       "      <td>25</td>\n",
       "      <td>Artist</td>\n",
       "      <td>94040</td>\n",
       "    </tr>\n",
       "    <tr>\n",
       "      <th>549157</th>\n",
       "      <td>880</td>\n",
       "      <td>Island of Dr. Moreau, The</td>\n",
       "      <td>Sci-Fi</td>\n",
       "      <td>1996</td>\n",
       "      <td>90s</td>\n",
       "      <td>5738</td>\n",
       "      <td>3</td>\n",
       "      <td>2000-05-15 19:18:27</td>\n",
       "      <td>M</td>\n",
       "      <td>25</td>\n",
       "      <td>Programmer</td>\n",
       "      <td>55406</td>\n",
       "    </tr>\n",
       "    <tr>\n",
       "      <th>864071</th>\n",
       "      <td>3755</td>\n",
       "      <td>Perfect Storm, The</td>\n",
       "      <td>Action</td>\n",
       "      <td>2000</td>\n",
       "      <td>90s</td>\n",
       "      <td>218</td>\n",
       "      <td>3</td>\n",
       "      <td>2000-12-15 00:59:25</td>\n",
       "      <td>M</td>\n",
       "      <td>35</td>\n",
       "      <td>Sales/Marketing</td>\n",
       "      <td>95822</td>\n",
       "    </tr>\n",
       "    <tr>\n",
       "      <th>534404</th>\n",
       "      <td>911</td>\n",
       "      <td>Charade</td>\n",
       "      <td>Comedy</td>\n",
       "      <td>1963</td>\n",
       "      <td>60s</td>\n",
       "      <td>5605</td>\n",
       "      <td>5</td>\n",
       "      <td>2000-05-25 23:28:46</td>\n",
       "      <td>F</td>\n",
       "      <td>18</td>\n",
       "      <td>Artist</td>\n",
       "      <td>95008</td>\n",
       "    </tr>\n",
       "    <tr>\n",
       "      <th>861539</th>\n",
       "      <td>1291</td>\n",
       "      <td>Indiana Jones and the Last Crusade</td>\n",
       "      <td>Action</td>\n",
       "      <td>1989</td>\n",
       "      <td>80s</td>\n",
       "      <td>6018</td>\n",
       "      <td>3</td>\n",
       "      <td>2000-04-26 15:39:00</td>\n",
       "      <td>M</td>\n",
       "      <td>35</td>\n",
       "      <td>Academic/Educator</td>\n",
       "      <td>48906</td>\n",
       "    </tr>\n",
       "    <tr>\n",
       "      <th>772961</th>\n",
       "      <td>527</td>\n",
       "      <td>Schindler's List</td>\n",
       "      <td>Drama</td>\n",
       "      <td>1993</td>\n",
       "      <td>90s</td>\n",
       "      <td>4901</td>\n",
       "      <td>4</td>\n",
       "      <td>2000-07-04 04:34:59</td>\n",
       "      <td>M</td>\n",
       "      <td>25</td>\n",
       "      <td>Executive/Managerial</td>\n",
       "      <td>11228</td>\n",
       "    </tr>\n",
       "  </tbody>\n",
       "</table>\n",
       "</div>"
      ],
      "text/plain": [
       "        MovieID                               Title  Genres  Release_year  \\\n",
       "549457     2702                       Summer of Sam   Drama          1999   \n",
       "149365      329              Star Trek: Generations  Action          1994   \n",
       "339635     1275                          Highlander  Action          1986   \n",
       "583922      441                  Dazed and Confused  Comedy          1993   \n",
       "131911      273         Mary Shelley's Frankenstein   Drama          1994   \n",
       "549157      880           Island of Dr. Moreau, The  Sci-Fi          1996   \n",
       "864071     3755                  Perfect Storm, The  Action          2000   \n",
       "534404      911                             Charade  Comedy          1963   \n",
       "861539     1291  Indiana Jones and the Last Crusade  Action          1989   \n",
       "772961      527                    Schindler's List   Drama          1993   \n",
       "\n",
       "       Decade  UserID  Rating           Timestamp Gender  Age  \\\n",
       "549457    90s    5738       2 2000-05-15 19:27:26      M   25   \n",
       "149365    90s    1545       2 2000-11-20 18:42:49      M   25   \n",
       "339635    80s    3589       4 2000-08-19 03:13:42      F   45   \n",
       "583922    90s    1168       3 2000-11-22 22:49:43      F   25   \n",
       "131911    90s    1354       3 2000-12-31 21:46:05      F   25   \n",
       "549157    90s    5738       3 2000-05-15 19:18:27      M   25   \n",
       "864071    90s     218       3 2000-12-15 00:59:25      M   35   \n",
       "534404    60s    5605       5 2000-05-25 23:28:46      F   18   \n",
       "861539    80s    6018       3 2000-04-26 15:39:00      M   35   \n",
       "772961    90s    4901       4 2000-07-04 04:34:59      M   25   \n",
       "\n",
       "                    Occupation Zip-code  \n",
       "549457              Programmer    55406  \n",
       "149365                  Writer    20009  \n",
       "339635  Other or not specified    80010  \n",
       "583922  Other or not specified    94109  \n",
       "131911                  Artist    94040  \n",
       "549157              Programmer    55406  \n",
       "864071         Sales/Marketing    95822  \n",
       "534404                  Artist    95008  \n",
       "861539       Academic/Educator    48906  \n",
       "772961    Executive/Managerial    11228  "
      ]
     },
     "execution_count": 322,
     "metadata": {},
     "output_type": "execute_result"
    }
   ],
   "source": [
    "df_copy.sample(10)"
   ]
  },
  {
   "cell_type": "code",
   "execution_count": 323,
   "id": "615d37fe-6381-4a58-a42f-50d7569cd2ca",
   "metadata": {},
   "outputs": [
    {
     "name": "stdout",
     "output_type": "stream",
     "text": [
      "<class 'pandas.core.frame.DataFrame'>\n",
      "RangeIndex: 1000209 entries, 0 to 1000208\n",
      "Data columns (total 12 columns):\n",
      " #   Column        Non-Null Count    Dtype         \n",
      "---  ------        --------------    -----         \n",
      " 0   MovieID       1000209 non-null  int64         \n",
      " 1   Title         1000209 non-null  object        \n",
      " 2   Genres        1000209 non-null  object        \n",
      " 3   Release_year  1000209 non-null  int64         \n",
      " 4   Decade        1000209 non-null  object        \n",
      " 5   UserID        1000209 non-null  int64         \n",
      " 6   Rating        1000209 non-null  int64         \n",
      " 7   Timestamp     1000209 non-null  datetime64[ns]\n",
      " 8   Gender        1000209 non-null  object        \n",
      " 9   Age           1000209 non-null  int64         \n",
      " 10  Occupation    1000209 non-null  object        \n",
      " 11  Zip-code      1000209 non-null  object        \n",
      "dtypes: datetime64[ns](1), int64(5), object(6)\n",
      "memory usage: 91.6+ MB\n"
     ]
    }
   ],
   "source": [
    "df_copy.info()"
   ]
  },
  {
   "cell_type": "code",
   "execution_count": 344,
   "id": "5feb3537-e67a-4f8e-99bf-a80f3ffee390",
   "metadata": {},
   "outputs": [
    {
     "data": {
      "text/html": [
       "<div>\n",
       "<style scoped>\n",
       "    .dataframe tbody tr th:only-of-type {\n",
       "        vertical-align: middle;\n",
       "    }\n",
       "\n",
       "    .dataframe tbody tr th {\n",
       "        vertical-align: top;\n",
       "    }\n",
       "\n",
       "    .dataframe thead th {\n",
       "        text-align: right;\n",
       "    }\n",
       "</style>\n",
       "<table border=\"1\" class=\"dataframe\">\n",
       "  <thead>\n",
       "    <tr style=\"text-align: right;\">\n",
       "      <th>Title</th>\n",
       "      <th>$1,000,000 Duck</th>\n",
       "      <th>'Night Mother</th>\n",
       "      <th>'Til There Was You</th>\n",
       "      <th>'burbs, The</th>\n",
       "      <th>...And Justice for All</th>\n",
       "      <th>1-900</th>\n",
       "      <th>10 Things I Hate About You</th>\n",
       "      <th>101 Dalmatians</th>\n",
       "      <th>12 Angry Men</th>\n",
       "      <th>13th Warrior, The</th>\n",
       "      <th>...</th>\n",
       "      <th>Young Poisoner's Handbook, The</th>\n",
       "      <th>Young Sherlock Holmes</th>\n",
       "      <th>Young and Innocent</th>\n",
       "      <th>Your Friends and Neighbors</th>\n",
       "      <th>Zachariah</th>\n",
       "      <th>Zed &amp; Two Noughts, A</th>\n",
       "      <th>Zero Effect</th>\n",
       "      <th>Zero Kelvin (Kjærlighetens kjøtere)</th>\n",
       "      <th>Zeus and Roxanne</th>\n",
       "      <th>eXistenZ</th>\n",
       "    </tr>\n",
       "    <tr>\n",
       "      <th>UserID</th>\n",
       "      <th></th>\n",
       "      <th></th>\n",
       "      <th></th>\n",
       "      <th></th>\n",
       "      <th></th>\n",
       "      <th></th>\n",
       "      <th></th>\n",
       "      <th></th>\n",
       "      <th></th>\n",
       "      <th></th>\n",
       "      <th></th>\n",
       "      <th></th>\n",
       "      <th></th>\n",
       "      <th></th>\n",
       "      <th></th>\n",
       "      <th></th>\n",
       "      <th></th>\n",
       "      <th></th>\n",
       "      <th></th>\n",
       "      <th></th>\n",
       "      <th></th>\n",
       "    </tr>\n",
       "  </thead>\n",
       "  <tbody>\n",
       "    <tr>\n",
       "      <th>1</th>\n",
       "      <td>0.0</td>\n",
       "      <td>0.0</td>\n",
       "      <td>0.0</td>\n",
       "      <td>0.0</td>\n",
       "      <td>0.0</td>\n",
       "      <td>0.0</td>\n",
       "      <td>0.0</td>\n",
       "      <td>0.0</td>\n",
       "      <td>0.0</td>\n",
       "      <td>0.0</td>\n",
       "      <td>...</td>\n",
       "      <td>0.0</td>\n",
       "      <td>0.0</td>\n",
       "      <td>0.0</td>\n",
       "      <td>0.0</td>\n",
       "      <td>0.0</td>\n",
       "      <td>0.0</td>\n",
       "      <td>0.0</td>\n",
       "      <td>0.0</td>\n",
       "      <td>0.0</td>\n",
       "      <td>0.0</td>\n",
       "    </tr>\n",
       "    <tr>\n",
       "      <th>2</th>\n",
       "      <td>0.0</td>\n",
       "      <td>0.0</td>\n",
       "      <td>0.0</td>\n",
       "      <td>0.0</td>\n",
       "      <td>0.0</td>\n",
       "      <td>0.0</td>\n",
       "      <td>0.0</td>\n",
       "      <td>0.0</td>\n",
       "      <td>0.0</td>\n",
       "      <td>0.0</td>\n",
       "      <td>...</td>\n",
       "      <td>0.0</td>\n",
       "      <td>0.0</td>\n",
       "      <td>0.0</td>\n",
       "      <td>0.0</td>\n",
       "      <td>0.0</td>\n",
       "      <td>0.0</td>\n",
       "      <td>0.0</td>\n",
       "      <td>0.0</td>\n",
       "      <td>0.0</td>\n",
       "      <td>0.0</td>\n",
       "    </tr>\n",
       "    <tr>\n",
       "      <th>3</th>\n",
       "      <td>0.0</td>\n",
       "      <td>0.0</td>\n",
       "      <td>0.0</td>\n",
       "      <td>0.0</td>\n",
       "      <td>0.0</td>\n",
       "      <td>0.0</td>\n",
       "      <td>0.0</td>\n",
       "      <td>0.0</td>\n",
       "      <td>0.0</td>\n",
       "      <td>0.0</td>\n",
       "      <td>...</td>\n",
       "      <td>0.0</td>\n",
       "      <td>0.0</td>\n",
       "      <td>0.0</td>\n",
       "      <td>0.0</td>\n",
       "      <td>0.0</td>\n",
       "      <td>0.0</td>\n",
       "      <td>0.0</td>\n",
       "      <td>0.0</td>\n",
       "      <td>0.0</td>\n",
       "      <td>0.0</td>\n",
       "    </tr>\n",
       "    <tr>\n",
       "      <th>4</th>\n",
       "      <td>0.0</td>\n",
       "      <td>0.0</td>\n",
       "      <td>0.0</td>\n",
       "      <td>0.0</td>\n",
       "      <td>0.0</td>\n",
       "      <td>0.0</td>\n",
       "      <td>0.0</td>\n",
       "      <td>0.0</td>\n",
       "      <td>0.0</td>\n",
       "      <td>0.0</td>\n",
       "      <td>...</td>\n",
       "      <td>0.0</td>\n",
       "      <td>0.0</td>\n",
       "      <td>0.0</td>\n",
       "      <td>0.0</td>\n",
       "      <td>0.0</td>\n",
       "      <td>0.0</td>\n",
       "      <td>0.0</td>\n",
       "      <td>0.0</td>\n",
       "      <td>0.0</td>\n",
       "      <td>0.0</td>\n",
       "    </tr>\n",
       "    <tr>\n",
       "      <th>5</th>\n",
       "      <td>0.0</td>\n",
       "      <td>0.0</td>\n",
       "      <td>0.0</td>\n",
       "      <td>0.0</td>\n",
       "      <td>0.0</td>\n",
       "      <td>0.0</td>\n",
       "      <td>0.0</td>\n",
       "      <td>0.0</td>\n",
       "      <td>0.0</td>\n",
       "      <td>0.0</td>\n",
       "      <td>...</td>\n",
       "      <td>0.0</td>\n",
       "      <td>0.0</td>\n",
       "      <td>0.0</td>\n",
       "      <td>0.0</td>\n",
       "      <td>0.0</td>\n",
       "      <td>0.0</td>\n",
       "      <td>0.0</td>\n",
       "      <td>0.0</td>\n",
       "      <td>0.0</td>\n",
       "      <td>0.0</td>\n",
       "    </tr>\n",
       "  </tbody>\n",
       "</table>\n",
       "<p>5 rows × 3664 columns</p>\n",
       "</div>"
      ],
      "text/plain": [
       "Title   $1,000,000 Duck  'Night Mother  'Til There Was You  'burbs, The  \\\n",
       "UserID                                                                    \n",
       "1                   0.0            0.0                 0.0          0.0   \n",
       "2                   0.0            0.0                 0.0          0.0   \n",
       "3                   0.0            0.0                 0.0          0.0   \n",
       "4                   0.0            0.0                 0.0          0.0   \n",
       "5                   0.0            0.0                 0.0          0.0   \n",
       "\n",
       "Title   ...And Justice for All  1-900  10 Things I Hate About You  \\\n",
       "UserID                                                              \n",
       "1                          0.0    0.0                         0.0   \n",
       "2                          0.0    0.0                         0.0   \n",
       "3                          0.0    0.0                         0.0   \n",
       "4                          0.0    0.0                         0.0   \n",
       "5                          0.0    0.0                         0.0   \n",
       "\n",
       "Title   101 Dalmatians  12 Angry Men  13th Warrior, The  ...  \\\n",
       "UserID                                                   ...   \n",
       "1                  0.0           0.0                0.0  ...   \n",
       "2                  0.0           0.0                0.0  ...   \n",
       "3                  0.0           0.0                0.0  ...   \n",
       "4                  0.0           0.0                0.0  ...   \n",
       "5                  0.0           0.0                0.0  ...   \n",
       "\n",
       "Title   Young Poisoner's Handbook, The  Young Sherlock Holmes  \\\n",
       "UserID                                                          \n",
       "1                                  0.0                    0.0   \n",
       "2                                  0.0                    0.0   \n",
       "3                                  0.0                    0.0   \n",
       "4                                  0.0                    0.0   \n",
       "5                                  0.0                    0.0   \n",
       "\n",
       "Title   Young and Innocent  Your Friends and Neighbors  Zachariah  \\\n",
       "UserID                                                              \n",
       "1                      0.0                         0.0        0.0   \n",
       "2                      0.0                         0.0        0.0   \n",
       "3                      0.0                         0.0        0.0   \n",
       "4                      0.0                         0.0        0.0   \n",
       "5                      0.0                         0.0        0.0   \n",
       "\n",
       "Title   Zed & Two Noughts, A  Zero Effect  \\\n",
       "UserID                                      \n",
       "1                        0.0          0.0   \n",
       "2                        0.0          0.0   \n",
       "3                        0.0          0.0   \n",
       "4                        0.0          0.0   \n",
       "5                        0.0          0.0   \n",
       "\n",
       "Title   Zero Kelvin (Kjærlighetens kjøtere)  Zeus and Roxanne  eXistenZ  \n",
       "UserID                                                                   \n",
       "1                                       0.0               0.0       0.0  \n",
       "2                                       0.0               0.0       0.0  \n",
       "3                                       0.0               0.0       0.0  \n",
       "4                                       0.0               0.0       0.0  \n",
       "5                                       0.0               0.0       0.0  \n",
       "\n",
       "[5 rows x 3664 columns]"
      ]
     },
     "execution_count": 344,
     "metadata": {},
     "output_type": "execute_result"
    }
   ],
   "source": [
    "# Create a pivot table of UserID as index, titles as columns, and values as ratings\n",
    "pivot_table = pd.pivot_table(df_copy, values='Rating', index='UserID', columns='Title', fill_value=0)\n",
    "# Display the pivot tab\n",
    "pivot_table.head()"
   ]
  },
  {
   "cell_type": "code",
   "execution_count": 347,
   "id": "44ede18e-bfcd-4c28-aa40-1e28eded7962",
   "metadata": {},
   "outputs": [
    {
     "name": "stdout",
     "output_type": "stream",
     "text": [
      "Sparsity = 16.14%\n"
     ]
    }
   ],
   "source": [
    "# Calculate the Sparsity\n",
    "print(f\"Sparsity = {round((pivot_table.sum().sum())/pivot_table.size*100,2)}%\")"
   ]
  },
  {
   "cell_type": "code",
   "execution_count": 359,
   "id": "c42423b3-68d9-4d59-a2b1-1bb35d014752",
   "metadata": {},
   "outputs": [
    {
     "name": "stdout",
     "output_type": "stream",
     "text": [
      "Pivot table shape = (6040, 3664)\n"
     ]
    }
   ],
   "source": [
    "print(f\"Pivot table shape = {pivot_table.shape}\")"
   ]
  },
  {
   "cell_type": "markdown",
   "id": "15f16bc1-848d-426a-a36d-dba94413b2a4",
   "metadata": {},
   "source": [
    "### Pearson Correlation Approach for item-based approach"
   ]
  },
  {
   "cell_type": "code",
   "execution_count": 360,
   "id": "9a49b4a5-44ae-49c5-b5a1-3e3dfad3d7dd",
   "metadata": {},
   "outputs": [
    {
     "name": "stdin",
     "output_type": "stream",
     "text": [
      "Enter the movie name Liar Liar\n"
     ]
    }
   ],
   "source": [
    "# Find the movies similar to 'Liar Liar'\n",
    "movie_input = input(\"Enter the movie name\")\n",
    "movie_rating = pivot_table[movie_input]\n",
    "\n",
    "# Store the related movies correlation matrix with that of the movie_inp\n",
    "related_movies = pivot_table.corrwith(movie_rating)"
   ]
  },
  {
   "cell_type": "code",
   "execution_count": 363,
   "id": "cdd0c469-8c7b-4c0e-88ee-cf28c3b05a58",
   "metadata": {},
   "outputs": [
    {
     "data": {
      "text/plain": [
       "Title\n",
       "Mrs. Doubtfire                0.499927\n",
       "Dumb & Dumber                 0.459601\n",
       "Ace Ventura: Pet Detective    0.458654\n",
       "Home Alone                    0.455967\n",
       "Wedding Singer, The           0.429222\n",
       "dtype: float64"
      ]
     },
     "execution_count": 363,
     "metadata": {},
     "output_type": "execute_result"
    }
   ],
   "source": [
    "# Sort the related values\n",
    "related_movies.sort_values(ascending=False).iloc[1:].head()"
   ]
  },
  {
   "cell_type": "markdown",
   "id": "2d87a917-bda1-4043-8c51-6ef229b8e88f",
   "metadata": {},
   "source": [
    "    - The similar ovies to the 'Liar Liar' are \n",
    "    * Mrs. Doubtfire\n",
    "    * Dumb & Dumber                \n",
    "    * Ace Ventura: Pet Detective  "
   ]
  },
  {
   "cell_type": "markdown",
   "id": "a0febfe0-c2a4-45f6-a9ab-099003fc47f1",
   "metadata": {},
   "source": [
    "### Cosine similarity for item-item and user-user similarities"
   ]
  },
  {
   "cell_type": "markdown",
   "id": "33c37cdf-7ca1-458f-ada4-6858c9b5ba8f",
   "metadata": {},
   "source": [
    "### Item-item similarity"
   ]
  },
  {
   "cell_type": "code",
   "execution_count": 368,
   "id": "fd7a081a-3723-42d7-8119-3654513340ce",
   "metadata": {},
   "outputs": [],
   "source": [
    "# Create a pivot table of movies and user ratings\n",
    "pivot_table_cos = pd.pivot_table(df_copy, values='Rating', index='UserID', columns='Title', fill_value=0)\n",
    "# Calculate cosine similarity for item-item similarity based on movie titles\n",
    "item_similarity = cosine_similarity(pivot_table_cos.T)"
   ]
  },
  {
   "cell_type": "code",
   "execution_count": 376,
   "id": "566ac672-ffce-4822-b8d0-0f1b7c841363",
   "metadata": {},
   "outputs": [
    {
     "data": {
      "text/html": [
       "<div>\n",
       "<style scoped>\n",
       "    .dataframe tbody tr th:only-of-type {\n",
       "        vertical-align: middle;\n",
       "    }\n",
       "\n",
       "    .dataframe tbody tr th {\n",
       "        vertical-align: top;\n",
       "    }\n",
       "\n",
       "    .dataframe thead th {\n",
       "        text-align: right;\n",
       "    }\n",
       "</style>\n",
       "<table border=\"1\" class=\"dataframe\">\n",
       "  <thead>\n",
       "    <tr style=\"text-align: right;\">\n",
       "      <th>Title</th>\n",
       "      <th>$1,000,000 Duck</th>\n",
       "      <th>'Night Mother</th>\n",
       "      <th>'Til There Was You</th>\n",
       "      <th>'burbs, The</th>\n",
       "      <th>...And Justice for All</th>\n",
       "      <th>1-900</th>\n",
       "      <th>10 Things I Hate About You</th>\n",
       "      <th>101 Dalmatians</th>\n",
       "      <th>12 Angry Men</th>\n",
       "      <th>13th Warrior, The</th>\n",
       "      <th>...</th>\n",
       "      <th>Young Poisoner's Handbook, The</th>\n",
       "      <th>Young Sherlock Holmes</th>\n",
       "      <th>Young and Innocent</th>\n",
       "      <th>Your Friends and Neighbors</th>\n",
       "      <th>Zachariah</th>\n",
       "      <th>Zed &amp; Two Noughts, A</th>\n",
       "      <th>Zero Effect</th>\n",
       "      <th>Zero Kelvin (Kjærlighetens kjøtere)</th>\n",
       "      <th>Zeus and Roxanne</th>\n",
       "      <th>eXistenZ</th>\n",
       "    </tr>\n",
       "    <tr>\n",
       "      <th>Title</th>\n",
       "      <th></th>\n",
       "      <th></th>\n",
       "      <th></th>\n",
       "      <th></th>\n",
       "      <th></th>\n",
       "      <th></th>\n",
       "      <th></th>\n",
       "      <th></th>\n",
       "      <th></th>\n",
       "      <th></th>\n",
       "      <th></th>\n",
       "      <th></th>\n",
       "      <th></th>\n",
       "      <th></th>\n",
       "      <th></th>\n",
       "      <th></th>\n",
       "      <th></th>\n",
       "      <th></th>\n",
       "      <th></th>\n",
       "      <th></th>\n",
       "      <th></th>\n",
       "    </tr>\n",
       "  </thead>\n",
       "  <tbody>\n",
       "    <tr>\n",
       "      <th>$1,000,000 Duck</th>\n",
       "      <td>1.000000</td>\n",
       "      <td>0.072357</td>\n",
       "      <td>0.037011</td>\n",
       "      <td>0.079291</td>\n",
       "      <td>0.060838</td>\n",
       "      <td>0.00000</td>\n",
       "      <td>0.058619</td>\n",
       "      <td>0.189843</td>\n",
       "      <td>0.094785</td>\n",
       "      <td>0.058418</td>\n",
       "      <td>...</td>\n",
       "      <td>0.038725</td>\n",
       "      <td>0.076474</td>\n",
       "      <td>0.000000</td>\n",
       "      <td>0.044074</td>\n",
       "      <td>0.0</td>\n",
       "      <td>0.045280</td>\n",
       "      <td>0.039395</td>\n",
       "      <td>0.000000</td>\n",
       "      <td>0.120242</td>\n",
       "      <td>0.027003</td>\n",
       "    </tr>\n",
       "    <tr>\n",
       "      <th>'Night Mother</th>\n",
       "      <td>0.072357</td>\n",
       "      <td>1.000000</td>\n",
       "      <td>0.115290</td>\n",
       "      <td>0.115545</td>\n",
       "      <td>0.159526</td>\n",
       "      <td>0.00000</td>\n",
       "      <td>0.076798</td>\n",
       "      <td>0.137135</td>\n",
       "      <td>0.111413</td>\n",
       "      <td>0.046135</td>\n",
       "      <td>...</td>\n",
       "      <td>0.053010</td>\n",
       "      <td>0.087828</td>\n",
       "      <td>0.063758</td>\n",
       "      <td>0.135962</td>\n",
       "      <td>0.0</td>\n",
       "      <td>0.091150</td>\n",
       "      <td>0.074787</td>\n",
       "      <td>0.000000</td>\n",
       "      <td>0.000000</td>\n",
       "      <td>0.077807</td>\n",
       "    </tr>\n",
       "    <tr>\n",
       "      <th>'Til There Was You</th>\n",
       "      <td>0.037011</td>\n",
       "      <td>0.115290</td>\n",
       "      <td>1.000000</td>\n",
       "      <td>0.098756</td>\n",
       "      <td>0.066301</td>\n",
       "      <td>0.08025</td>\n",
       "      <td>0.127895</td>\n",
       "      <td>0.128523</td>\n",
       "      <td>0.079115</td>\n",
       "      <td>0.066598</td>\n",
       "      <td>...</td>\n",
       "      <td>0.029200</td>\n",
       "      <td>0.062893</td>\n",
       "      <td>0.000000</td>\n",
       "      <td>0.079187</td>\n",
       "      <td>0.0</td>\n",
       "      <td>0.022594</td>\n",
       "      <td>0.079261</td>\n",
       "      <td>0.000000</td>\n",
       "      <td>0.047526</td>\n",
       "      <td>0.063284</td>\n",
       "    </tr>\n",
       "    <tr>\n",
       "      <th>'burbs, The</th>\n",
       "      <td>0.079291</td>\n",
       "      <td>0.115545</td>\n",
       "      <td>0.098756</td>\n",
       "      <td>1.000000</td>\n",
       "      <td>0.143620</td>\n",
       "      <td>0.00000</td>\n",
       "      <td>0.192191</td>\n",
       "      <td>0.250140</td>\n",
       "      <td>0.170719</td>\n",
       "      <td>0.197808</td>\n",
       "      <td>...</td>\n",
       "      <td>0.113386</td>\n",
       "      <td>0.207897</td>\n",
       "      <td>0.019962</td>\n",
       "      <td>0.138064</td>\n",
       "      <td>0.0</td>\n",
       "      <td>0.055704</td>\n",
       "      <td>0.161174</td>\n",
       "      <td>0.000000</td>\n",
       "      <td>0.033567</td>\n",
       "      <td>0.110525</td>\n",
       "    </tr>\n",
       "    <tr>\n",
       "      <th>...And Justice for All</th>\n",
       "      <td>0.060838</td>\n",
       "      <td>0.159526</td>\n",
       "      <td>0.066301</td>\n",
       "      <td>0.143620</td>\n",
       "      <td>1.000000</td>\n",
       "      <td>0.00000</td>\n",
       "      <td>0.075093</td>\n",
       "      <td>0.178928</td>\n",
       "      <td>0.205486</td>\n",
       "      <td>0.122431</td>\n",
       "      <td>...</td>\n",
       "      <td>0.089998</td>\n",
       "      <td>0.153006</td>\n",
       "      <td>0.067009</td>\n",
       "      <td>0.109029</td>\n",
       "      <td>0.0</td>\n",
       "      <td>0.086080</td>\n",
       "      <td>0.110867</td>\n",
       "      <td>0.074317</td>\n",
       "      <td>0.000000</td>\n",
       "      <td>0.111040</td>\n",
       "    </tr>\n",
       "  </tbody>\n",
       "</table>\n",
       "<p>5 rows × 3664 columns</p>\n",
       "</div>"
      ],
      "text/plain": [
       "Title                   $1,000,000 Duck  'Night Mother  'Til There Was You  \\\n",
       "Title                                                                        \n",
       "$1,000,000 Duck                1.000000       0.072357            0.037011   \n",
       "'Night Mother                  0.072357       1.000000            0.115290   \n",
       "'Til There Was You             0.037011       0.115290            1.000000   \n",
       "'burbs, The                    0.079291       0.115545            0.098756   \n",
       "...And Justice for All         0.060838       0.159526            0.066301   \n",
       "\n",
       "Title                   'burbs, The  ...And Justice for All    1-900  \\\n",
       "Title                                                                  \n",
       "$1,000,000 Duck            0.079291                0.060838  0.00000   \n",
       "'Night Mother              0.115545                0.159526  0.00000   \n",
       "'Til There Was You         0.098756                0.066301  0.08025   \n",
       "'burbs, The                1.000000                0.143620  0.00000   \n",
       "...And Justice for All     0.143620                1.000000  0.00000   \n",
       "\n",
       "Title                   10 Things I Hate About You  101 Dalmatians  \\\n",
       "Title                                                                \n",
       "$1,000,000 Duck                           0.058619        0.189843   \n",
       "'Night Mother                             0.076798        0.137135   \n",
       "'Til There Was You                        0.127895        0.128523   \n",
       "'burbs, The                               0.192191        0.250140   \n",
       "...And Justice for All                    0.075093        0.178928   \n",
       "\n",
       "Title                   12 Angry Men  13th Warrior, The  ...  \\\n",
       "Title                                                    ...   \n",
       "$1,000,000 Duck             0.094785           0.058418  ...   \n",
       "'Night Mother               0.111413           0.046135  ...   \n",
       "'Til There Was You          0.079115           0.066598  ...   \n",
       "'burbs, The                 0.170719           0.197808  ...   \n",
       "...And Justice for All      0.205486           0.122431  ...   \n",
       "\n",
       "Title                   Young Poisoner's Handbook, The  Young Sherlock Holmes  \\\n",
       "Title                                                                           \n",
       "$1,000,000 Duck                               0.038725               0.076474   \n",
       "'Night Mother                                 0.053010               0.087828   \n",
       "'Til There Was You                            0.029200               0.062893   \n",
       "'burbs, The                                   0.113386               0.207897   \n",
       "...And Justice for All                        0.089998               0.153006   \n",
       "\n",
       "Title                   Young and Innocent  Your Friends and Neighbors  \\\n",
       "Title                                                                    \n",
       "$1,000,000 Duck                   0.000000                    0.044074   \n",
       "'Night Mother                     0.063758                    0.135962   \n",
       "'Til There Was You                0.000000                    0.079187   \n",
       "'burbs, The                       0.019962                    0.138064   \n",
       "...And Justice for All            0.067009                    0.109029   \n",
       "\n",
       "Title                   Zachariah  Zed & Two Noughts, A  Zero Effect  \\\n",
       "Title                                                                  \n",
       "$1,000,000 Duck               0.0              0.045280     0.039395   \n",
       "'Night Mother                 0.0              0.091150     0.074787   \n",
       "'Til There Was You            0.0              0.022594     0.079261   \n",
       "'burbs, The                   0.0              0.055704     0.161174   \n",
       "...And Justice for All        0.0              0.086080     0.110867   \n",
       "\n",
       "Title                   Zero Kelvin (Kjærlighetens kjøtere)  Zeus and Roxanne  \\\n",
       "Title                                                                           \n",
       "$1,000,000 Duck                                    0.000000          0.120242   \n",
       "'Night Mother                                      0.000000          0.000000   \n",
       "'Til There Was You                                 0.000000          0.047526   \n",
       "'burbs, The                                        0.000000          0.033567   \n",
       "...And Justice for All                             0.074317          0.000000   \n",
       "\n",
       "Title                   eXistenZ  \n",
       "Title                             \n",
       "$1,000,000 Duck         0.027003  \n",
       "'Night Mother           0.077807  \n",
       "'Til There Was You      0.063284  \n",
       "'burbs, The             0.110525  \n",
       "...And Justice for All  0.111040  \n",
       "\n",
       "[5 rows x 3664 columns]"
      ]
     },
     "execution_count": 376,
     "metadata": {},
     "output_type": "execute_result"
    }
   ],
   "source": [
    "# Create a dataframe of item-item similarity\n",
    "item_similarity_df = pd.DataFrame(item_similarity, index=pivot_table_cos.columns, columns = pivot_table_cos.columns)\n",
    "# Display the item-item similarity dataframe\n",
    "item_similarity_df.head()"
   ]
  },
  {
   "cell_type": "markdown",
   "id": "03ecca4c-6c40-4f84-9283-e2a79a5b954e",
   "metadata": {},
   "source": [
    "### User-User Similarity"
   ]
  },
  {
   "cell_type": "code",
   "execution_count": 377,
   "id": "8e9d4e1c-4994-479d-912f-3470bf660170",
   "metadata": {},
   "outputs": [
    {
     "data": {
      "text/html": [
       "<div>\n",
       "<style scoped>\n",
       "    .dataframe tbody tr th:only-of-type {\n",
       "        vertical-align: middle;\n",
       "    }\n",
       "\n",
       "    .dataframe tbody tr th {\n",
       "        vertical-align: top;\n",
       "    }\n",
       "\n",
       "    .dataframe thead th {\n",
       "        text-align: right;\n",
       "    }\n",
       "</style>\n",
       "<table border=\"1\" class=\"dataframe\">\n",
       "  <thead>\n",
       "    <tr style=\"text-align: right;\">\n",
       "      <th>UserID</th>\n",
       "      <th>1</th>\n",
       "      <th>2</th>\n",
       "      <th>3</th>\n",
       "      <th>4</th>\n",
       "      <th>5</th>\n",
       "      <th>6</th>\n",
       "      <th>7</th>\n",
       "      <th>8</th>\n",
       "      <th>9</th>\n",
       "      <th>10</th>\n",
       "      <th>...</th>\n",
       "      <th>6031</th>\n",
       "      <th>6032</th>\n",
       "      <th>6033</th>\n",
       "      <th>6034</th>\n",
       "      <th>6035</th>\n",
       "      <th>6036</th>\n",
       "      <th>6037</th>\n",
       "      <th>6038</th>\n",
       "      <th>6039</th>\n",
       "      <th>6040</th>\n",
       "    </tr>\n",
       "    <tr>\n",
       "      <th>UserID</th>\n",
       "      <th></th>\n",
       "      <th></th>\n",
       "      <th></th>\n",
       "      <th></th>\n",
       "      <th></th>\n",
       "      <th></th>\n",
       "      <th></th>\n",
       "      <th></th>\n",
       "      <th></th>\n",
       "      <th></th>\n",
       "      <th></th>\n",
       "      <th></th>\n",
       "      <th></th>\n",
       "      <th></th>\n",
       "      <th></th>\n",
       "      <th></th>\n",
       "      <th></th>\n",
       "      <th></th>\n",
       "      <th></th>\n",
       "      <th></th>\n",
       "      <th></th>\n",
       "    </tr>\n",
       "  </thead>\n",
       "  <tbody>\n",
       "    <tr>\n",
       "      <th>1</th>\n",
       "      <td>1.000000</td>\n",
       "      <td>0.096382</td>\n",
       "      <td>0.120610</td>\n",
       "      <td>0.132455</td>\n",
       "      <td>0.090158</td>\n",
       "      <td>0.179222</td>\n",
       "      <td>0.059678</td>\n",
       "      <td>0.138241</td>\n",
       "      <td>0.226148</td>\n",
       "      <td>0.254736</td>\n",
       "      <td>...</td>\n",
       "      <td>0.170588</td>\n",
       "      <td>0.082006</td>\n",
       "      <td>0.090961</td>\n",
       "      <td>0.033663</td>\n",
       "      <td>0.114877</td>\n",
       "      <td>0.186957</td>\n",
       "      <td>0.136233</td>\n",
       "      <td>0.000000</td>\n",
       "      <td>0.174604</td>\n",
       "      <td>0.133590</td>\n",
       "    </tr>\n",
       "    <tr>\n",
       "      <th>2</th>\n",
       "      <td>0.096382</td>\n",
       "      <td>1.000000</td>\n",
       "      <td>0.151479</td>\n",
       "      <td>0.171176</td>\n",
       "      <td>0.114394</td>\n",
       "      <td>0.100865</td>\n",
       "      <td>0.305787</td>\n",
       "      <td>0.211120</td>\n",
       "      <td>0.190198</td>\n",
       "      <td>0.227745</td>\n",
       "      <td>...</td>\n",
       "      <td>0.112503</td>\n",
       "      <td>0.091222</td>\n",
       "      <td>0.268565</td>\n",
       "      <td>0.014286</td>\n",
       "      <td>0.183384</td>\n",
       "      <td>0.229011</td>\n",
       "      <td>0.206660</td>\n",
       "      <td>0.066118</td>\n",
       "      <td>0.066457</td>\n",
       "      <td>0.218276</td>\n",
       "    </tr>\n",
       "    <tr>\n",
       "      <th>3</th>\n",
       "      <td>0.120610</td>\n",
       "      <td>0.151479</td>\n",
       "      <td>1.000000</td>\n",
       "      <td>0.151227</td>\n",
       "      <td>0.062907</td>\n",
       "      <td>0.074603</td>\n",
       "      <td>0.138332</td>\n",
       "      <td>0.077656</td>\n",
       "      <td>0.126457</td>\n",
       "      <td>0.214487</td>\n",
       "      <td>...</td>\n",
       "      <td>0.092960</td>\n",
       "      <td>0.125864</td>\n",
       "      <td>0.161507</td>\n",
       "      <td>0.000000</td>\n",
       "      <td>0.097308</td>\n",
       "      <td>0.143747</td>\n",
       "      <td>0.107945</td>\n",
       "      <td>0.120234</td>\n",
       "      <td>0.094675</td>\n",
       "      <td>0.133144</td>\n",
       "    </tr>\n",
       "    <tr>\n",
       "      <th>4</th>\n",
       "      <td>0.132455</td>\n",
       "      <td>0.171176</td>\n",
       "      <td>0.151227</td>\n",
       "      <td>1.000000</td>\n",
       "      <td>0.045094</td>\n",
       "      <td>0.013529</td>\n",
       "      <td>0.130339</td>\n",
       "      <td>0.100856</td>\n",
       "      <td>0.093651</td>\n",
       "      <td>0.121208</td>\n",
       "      <td>...</td>\n",
       "      <td>0.163629</td>\n",
       "      <td>0.093041</td>\n",
       "      <td>0.382803</td>\n",
       "      <td>0.000000</td>\n",
       "      <td>0.082097</td>\n",
       "      <td>0.171158</td>\n",
       "      <td>0.127703</td>\n",
       "      <td>0.062907</td>\n",
       "      <td>0.064634</td>\n",
       "      <td>0.137968</td>\n",
       "    </tr>\n",
       "    <tr>\n",
       "      <th>5</th>\n",
       "      <td>0.090158</td>\n",
       "      <td>0.114394</td>\n",
       "      <td>0.062907</td>\n",
       "      <td>0.045094</td>\n",
       "      <td>1.000000</td>\n",
       "      <td>0.047449</td>\n",
       "      <td>0.126257</td>\n",
       "      <td>0.220817</td>\n",
       "      <td>0.261330</td>\n",
       "      <td>0.117508</td>\n",
       "      <td>...</td>\n",
       "      <td>0.100652</td>\n",
       "      <td>0.035732</td>\n",
       "      <td>0.065278</td>\n",
       "      <td>0.054151</td>\n",
       "      <td>0.179083</td>\n",
       "      <td>0.294354</td>\n",
       "      <td>0.173009</td>\n",
       "      <td>0.020459</td>\n",
       "      <td>0.027689</td>\n",
       "      <td>0.241437</td>\n",
       "    </tr>\n",
       "  </tbody>\n",
       "</table>\n",
       "<p>5 rows × 6040 columns</p>\n",
       "</div>"
      ],
      "text/plain": [
       "UserID      1         2         3         4         5         6         7     \\\n",
       "UserID                                                                         \n",
       "1       1.000000  0.096382  0.120610  0.132455  0.090158  0.179222  0.059678   \n",
       "2       0.096382  1.000000  0.151479  0.171176  0.114394  0.100865  0.305787   \n",
       "3       0.120610  0.151479  1.000000  0.151227  0.062907  0.074603  0.138332   \n",
       "4       0.132455  0.171176  0.151227  1.000000  0.045094  0.013529  0.130339   \n",
       "5       0.090158  0.114394  0.062907  0.045094  1.000000  0.047449  0.126257   \n",
       "\n",
       "UserID      8         9         10    ...      6031      6032      6033  \\\n",
       "UserID                                ...                                 \n",
       "1       0.138241  0.226148  0.254736  ...  0.170588  0.082006  0.090961   \n",
       "2       0.211120  0.190198  0.227745  ...  0.112503  0.091222  0.268565   \n",
       "3       0.077656  0.126457  0.214487  ...  0.092960  0.125864  0.161507   \n",
       "4       0.100856  0.093651  0.121208  ...  0.163629  0.093041  0.382803   \n",
       "5       0.220817  0.261330  0.117508  ...  0.100652  0.035732  0.065278   \n",
       "\n",
       "UserID      6034      6035      6036      6037      6038      6039      6040  \n",
       "UserID                                                                        \n",
       "1       0.033663  0.114877  0.186957  0.136233  0.000000  0.174604  0.133590  \n",
       "2       0.014286  0.183384  0.229011  0.206660  0.066118  0.066457  0.218276  \n",
       "3       0.000000  0.097308  0.143747  0.107945  0.120234  0.094675  0.133144  \n",
       "4       0.000000  0.082097  0.171158  0.127703  0.062907  0.064634  0.137968  \n",
       "5       0.054151  0.179083  0.294354  0.173009  0.020459  0.027689  0.241437  \n",
       "\n",
       "[5 rows x 6040 columns]"
      ]
     },
     "execution_count": 377,
     "metadata": {},
     "output_type": "execute_result"
    }
   ],
   "source": [
    "# Calculate cosine similarity for user-user similarity based on user ratings\n",
    "user_similarity = cosine_similarity(pivot_table_cos)\n",
    "# Create a dataframe of user-user similarity\n",
    "user_similarity_df = pd.DataFrame(user_similarity, index=pivot_table_cos.index, columns = pivot_table_cos.index)\n",
    "# Display the user-user similarity dataframe\n",
    "user_similarity_df.head()"
   ]
  },
  {
   "cell_type": "markdown",
   "id": "a04b192e-140d-41fd-aa1b-a6ebde287584",
   "metadata": {},
   "source": [
    "## Employ the Nearest Neighbors algorithm with Cosine Similarity to find and recommend similar movies."
   ]
  },
  {
   "cell_type": "code",
   "execution_count": 378,
   "id": "8f552af9-d671-40c0-990c-c6ee85f56b78",
   "metadata": {},
   "outputs": [
    {
     "name": "stdin",
     "output_type": "stream",
     "text": [
      "Enter the name of a movie:  Liar Liar\n"
     ]
    },
    {
     "name": "stdout",
     "output_type": "stream",
     "text": [
      "Top 5 recommended movies similar to Liar Liar\n",
      "1 - Mrs. Doubtfire\n",
      "2 - Ace Ventura: Pet Detective\n",
      "3 - Dumb & Dumber\n",
      "4 - Home Alone\n",
      "5 - Wayne's World\n"
     ]
    }
   ],
   "source": [
    "from sklearn.neighbors import NearestNeighbors\n",
    "from scipy.sparse import csr_matrix\n",
    "# Create a sparse matrix using the CSR format\n",
    "sparse_matrix = csr_matrix(pivot_table_cos.T.values)\n",
    "# Fit the Nearest Neighbors model using Cosine Similarity\n",
    "model = NearestNeighbors(metric='cosine', algorithm='brute')\n",
    "model.fit(sparse_matrix)\n",
    "# Get input movie name from the user\n",
    "movie_name = input(\"Enter the name of a movie: \")\n",
    "# Find the index of the input movie in the pivot table\n",
    "movie_index = pivot_table_cos.columns.get_loc(movie_name)\n",
    "# Find the 6 nearest neighbors (including the input movie itself)\n",
    "distances, indices = model.kneighbors(sparse_matrix[movie_index], n_neighbors=6)\n",
    "# Get the indices of the recommended movies (excluding the input movie itself)\n",
    "recommended_indices = indices.flatten()[1:]\n",
    "# Get the titles of the recommended movies\n",
    "recommended_movies = pivot_table_cos.columns[recommended_indices]\n",
    "# Display the top 5 recommended movies\n",
    "print(\"Top 5 recommended movies similar to\", movie_name)\n",
    "for i, movie in enumerate(recommended_movies[:5], 1):\n",
    "    print(i, \"-\", movie)"
   ]
  },
  {
   "cell_type": "markdown",
   "id": "6e865a82-df08-48db-b535-b90cdf07473d",
   "metadata": {},
   "source": [
    "## Matrix Factorization for recommendation"
   ]
  },
  {
   "cell_type": "code",
   "execution_count": 379,
   "id": "062426c5-5ed8-40ca-b6df-e4d16cf205e6",
   "metadata": {},
   "outputs": [
    {
     "name": "stdout",
     "output_type": "stream",
     "text": [
      "Collecting cmfrec\n",
      "  Downloading cmfrec-3.5.1.post8.tar.gz (268 kB)\n",
      "\u001b[2K     \u001b[90m━━━━━━━━━━━━━━━━━━━━━━━━━━━━━━━━━━━━━━━\u001b[0m \u001b[32m268.4/268.4 kB\u001b[0m \u001b[31m2.1 MB/s\u001b[0m eta \u001b[36m0:00:00\u001b[0m00:01\u001b[0m00:01\u001b[0m\n",
      "\u001b[?25h  Installing build dependencies ... \u001b[?25ldone\n",
      "\u001b[?25h  Getting requirements to build wheel ... \u001b[?25ldone\n",
      "\u001b[?25h  Preparing metadata (pyproject.toml) ... \u001b[?25ldone\n",
      "\u001b[?25hCollecting cython (from cmfrec)\n",
      "  Using cached Cython-3.0.9-py2.py3-none-any.whl.metadata (3.2 kB)\n",
      "Requirement already satisfied: numpy>=1.25 in /Users/moon/miniforge3/envs/env_scaler/lib/python3.12/site-packages (from cmfrec) (1.26.2)\n",
      "Requirement already satisfied: scipy in /Users/moon/miniforge3/envs/env_scaler/lib/python3.12/site-packages (from cmfrec) (1.11.4)\n",
      "Requirement already satisfied: pandas in /Users/moon/miniforge3/envs/env_scaler/lib/python3.12/site-packages (from cmfrec) (2.1.4)\n",
      "Collecting findblas (from cmfrec)\n",
      "  Using cached findblas-0.1.23-py3-none-any.whl\n",
      "Requirement already satisfied: python-dateutil>=2.8.2 in /Users/moon/miniforge3/envs/env_scaler/lib/python3.12/site-packages (from pandas->cmfrec) (2.8.2)\n",
      "Requirement already satisfied: pytz>=2020.1 in /Users/moon/miniforge3/envs/env_scaler/lib/python3.12/site-packages (from pandas->cmfrec) (2023.3.post1)\n",
      "Requirement already satisfied: tzdata>=2022.1 in /Users/moon/miniforge3/envs/env_scaler/lib/python3.12/site-packages (from pandas->cmfrec) (2023.3)\n",
      "Requirement already satisfied: six>=1.5 in /Users/moon/miniforge3/envs/env_scaler/lib/python3.12/site-packages (from python-dateutil>=2.8.2->pandas->cmfrec) (1.16.0)\n",
      "Using cached Cython-3.0.9-py2.py3-none-any.whl (1.2 MB)\n",
      "Building wheels for collected packages: cmfrec\n",
      "  Building wheel for cmfrec (pyproject.toml) ... \u001b[?25ldone\n",
      "\u001b[?25h  Created wheel for cmfrec: filename=cmfrec-3.5.1.post8-cp312-cp312-macosx_11_0_arm64.whl size=1061394 sha256=49710db53e8749c3de86c652cd181f33284fcd0306cdd63a703c015a11c74e6d\n",
      "  Stored in directory: /Users/moon/Library/Caches/pip/wheels/02/10/dc/207bf10c828257f8520b13c7a3ac797b8e0173c61f7e15344e\n",
      "Successfully built cmfrec\n",
      "Installing collected packages: findblas, cython, cmfrec\n",
      "Successfully installed cmfrec-3.5.1.post8 cython-3.0.9 findblas-0.1.23\n"
     ]
    }
   ],
   "source": [
    "# install cmfrec library\n",
    "!pip install cmfrec"
   ]
  },
  {
   "cell_type": "code",
   "execution_count": 381,
   "id": "1830b450-a79b-4178-a8c5-69c68fcdba4e",
   "metadata": {},
   "outputs": [
    {
     "name": "stderr",
     "output_type": "stream",
     "text": [
      "/var/folders/vm/pdpb8c_x2kz5jqk_zhcvs8kr0000gn/T/ipykernel_72166/4102517052.py:8: SettingWithCopyWarning: \n",
      "A value is trying to be set on a copy of a slice from a DataFrame\n",
      "\n",
      "See the caveats in the documentation: https://pandas.pydata.org/pandas-docs/stable/user_guide/indexing.html#returning-a-view-versus-a-copy\n",
      "  data.rename(columns={'UserID': 'UserId', 'MovieID': 'ItemId'}, inplace=True)\n",
      "/Users/moon/miniforge3/envs/env_scaler/lib/python3.12/site-packages/cmfrec/__init__.py:138: UserWarning: Attempting to use more than 1 thread, but package was built without multi-threading support - see the project's GitHub page for more information.\n",
      "  warnings.warn(msg_omp)\n"
     ]
    }
   ],
   "source": [
    "from sklearn.model_selection import train_test_split\n",
    "from cmfrec import CMF\n",
    "# Step 2: Load and preprocess the data\n",
    "# Assuming you have a DataFrame named df_copy with columns UserID, MovieID, Rating\n",
    "data = df_copy[['UserID', 'MovieID', 'Rating']]\n",
    "\n",
    "# Step 3: Rename columns to match the expected format by CMF model\n",
    "data.rename(columns={'UserID': 'UserId', 'MovieID': 'ItemId'}, inplace=True)\n",
    "\n",
    "# Step 4: Split the data into training and testing sets for Matrix Factorization\n",
    "train_data, test_data = train_test_split(data, test_size=0.2, random_state=21)\n",
    "\n",
    "# Step 5: Train the Matrix Factorization model with d=4 embeddings\n",
    "model = CMF(k=4, random_state=21, niter=100)\n",
    "model.fit(train_data)"
   ]
  },
  {
   "cell_type": "code",
   "execution_count": 425,
   "id": "af96c164-4c80-4a2f-a476-2ee2060efd52",
   "metadata": {},
   "outputs": [
    {
     "name": "stdout",
     "output_type": "stream",
     "text": [
      "RMSE: 0.8630677215390966\n",
      "MAPE: 26.33849991501784\n"
     ]
    }
   ],
   "source": [
    "# Step 6: Evaluate the model's performance using RMSE and MAPE\n",
    "predictions = []\n",
    "for _, row in test_data.iterrows():\n",
    "    user_id, item_id = row['UserId'], row['ItemId']\n",
    "    pred_rating = model.predict(user=user_id, item=item_id)\n",
    "    pred_rating = round(pred_rating.item(),2)\n",
    "    predictions.append(pred_rating)\n",
    "   \n",
    "predictions = np.array(predictions)\n",
    "rmse = np.sqrt(np.mean((test_data['Rating'] - predictions)**2))\n",
    "mape = np.mean(np.abs(test_data['Rating'] - predictions) / test_data['Rating']) * 100\n",
    "print(\"RMSE:\", rmse)\n",
    "print(\"MAPE:\", mape)"
   ]
  },
  {
   "cell_type": "code",
   "execution_count": 429,
   "id": "c0880309-3325-4fb4-8d3b-f67efd4c1cd0",
   "metadata": {},
   "outputs": [],
   "source": [
    "# Step 7: Use the learned embeddings for visualization and similarity-based models\n",
    "user_embeddings = model.A_\n",
    "item_embeddings = model.B_\n",
    "\n",
    "# Step 8: Redesign item-item and user-user similarity functions using MF embeddings\n",
    "# For example, to compute cosine similarity between item embeddings\n",
    "def item_item_similarity(item_id_1, item_id_2):\n",
    "    emb_1 = item_embeddings[item_id_1]\n",
    "    emb_2 = item_embeddings[item_id_2]\n",
    "    similarity = np.dot(emb_1, emb_2) / (np.linalg.norm(emb_1) * np.linalg.norm(emb_2))\n",
    "    return similarity\n",
    "\n",
    "# Similarly, compute user-user similarity using MF embeddings\n",
    "def user_user_similarity(user_id_1, user_id_2):\n",
    "    emb_1 = user_embeddings[user_id_1]\n",
    "    emb_2 = user_embeddings[user_id_2]\n",
    "    similarity = np.dot(emb_1, emb_2) / (np.linalg.norm(emb_1) * np.linalg.norm(emb_2))\n",
    "    return similarity\n"
   ]
  },
  {
   "cell_type": "code",
   "execution_count": 430,
   "id": "d370f379-243c-4ace-ad63-ac1aeb403936",
   "metadata": {},
   "outputs": [
    {
     "data": {
      "image/png": "[encoded data removed]",
      "text/plain": [
       "<Figure size 640x480 with 1 Axes>"
      ]
     },
     "metadata": {},
     "output_type": "display_data"
    }
   ],
   "source": [
    "# Bonus: Get d=2 embeddings and plot the results\n",
    "model_2d = CMF(k=2, random_state=42, niter=100)\n",
    "model_2d.fit(train_data)\n",
    "item_embeddings_2d = model_2d.B_\n",
    "plt.scatter(item_embeddings_2d[:, 0], item_embeddings_2d[:, 1])\n",
    "plt.xlabel('Embedding Dimension 1')\n",
    "plt.ylabel('Embedding Dimension 2')\n",
    "plt.title('2D Embeddings Visualization for item-item')\n",
    "plt.show()"
   ]
  },
  {
   "cell_type": "markdown",
   "id": "46ba806f-5261-4af9-91d5-eb8c5b5275df",
   "metadata": {},
   "source": [
    "### Surprise Library"
   ]
  },
  {
   "cell_type": "code",
   "execution_count": 431,
   "id": "6f293e03-9ecd-4729-a25f-5d7032e34417",
   "metadata": {},
   "outputs": [
    {
     "name": "stdout",
     "output_type": "stream",
     "text": [
      "Collecting scikit-surprise\n",
      "  Downloading scikit-surprise-1.1.3.tar.gz (771 kB)\n",
      "\u001b[2K     \u001b[90m━━━━━━━━━━━━━━━━━━━━━━━━━━━━━━━━━━━━━━━\u001b[0m \u001b[32m772.0/772.0 kB\u001b[0m \u001b[31m8.2 MB/s\u001b[0m eta \u001b[36m0:00:00\u001b[0m00:01\u001b[0m00:01\u001b[0m\n",
      "\u001b[?25h  Preparing metadata (setup.py) ... \u001b[?25ldone\n",
      "\u001b[?25hRequirement already satisfied: joblib>=1.0.0 in /Users/moon/miniforge3/envs/env_scaler/lib/python3.12/site-packages (from scikit-surprise) (1.3.2)\n",
      "Requirement already satisfied: numpy>=1.17.3 in /Users/moon/miniforge3/envs/env_scaler/lib/python3.12/site-packages (from scikit-surprise) (1.26.2)\n",
      "Requirement already satisfied: scipy>=1.3.2 in /Users/moon/miniforge3/envs/env_scaler/lib/python3.12/site-packages (from scikit-surprise) (1.11.4)\n",
      "Building wheels for collected packages: scikit-surprise\n",
      "  Building wheel for scikit-surprise (setup.py) ... \u001b[?25ldone\n",
      "\u001b[?25h  Created wheel for scikit-surprise: filename=scikit_surprise-1.1.3-cp312-cp312-macosx_11_0_arm64.whl size=1288863 sha256=109dd279dcd0ee771b68db98561a3ad2b42d3a37916564dae9e25189ad5deebc\n",
      "  Stored in directory: /Users/moon/Library/Caches/pip/wheels/ee/08/67/4176eedbed1c63c15db21a526f1893ca43ee8453182a239afc\n",
      "Successfully built scikit-surprise\n",
      "Installing collected packages: scikit-surprise\n",
      "Successfully installed scikit-surprise-1.1.3\n"
     ]
    }
   ],
   "source": [
    "# Step 1: Install Surprise library\n",
    "!pip install scikit-surprise"
   ]
  },
  {
   "cell_type": "markdown",
   "id": "62145cbe-5017-48f3-a930-ca75c191aac3",
   "metadata": {},
   "source": [
    "### Evaluate the model in terms of the Root Mean Squared Error and Mean Absolute Percentage Error"
   ]
  },
  {
   "cell_type": "code",
   "execution_count": 433,
   "id": "4f4aa74b-cdab-4701-82d2-2865546c64a7",
   "metadata": {},
   "outputs": [
    {
     "name": "stdout",
     "output_type": "stream",
     "text": [
      "RMSE: 0.8827\n",
      "RMSE: 0.8826968163330328\n"
     ]
    }
   ],
   "source": [
    "# Step 2: Import necessary modules from Surprise\n",
    "from surprise import Dataset, Reader\n",
    "from surprise.model_selection import train_test_split\n",
    "from surprise import SVD\n",
    "from surprise import accuracy\n",
    "# Step 3: Load your dataset into Surprise\n",
    "# Assuming you have a DataFrame named final_df_copy with columns UserID, MovieID, a\n",
    "reader = Reader(rating_scale=(1, 5))\n",
    "data = Dataset.load_from_df(df_copy[['UserID', 'MovieID', 'Rating']], reader)\n",
    "# Step 4: Split the data into training and testing sets\n",
    "train_set, test_set = train_test_split(data, test_size=0.2, random_state=42)\n",
    "# Step 5: Train the Matrix Factorization model (SVD) on the training set\n",
    "model = SVD(n_factors=4, random_state=42)\n",
    "model.fit(train_set)\n",
    "# Step 6: Make predictions on the test set\n",
    "predictions = model.test(test_set)\n",
    "# Step 7: Evaluate the model's performance using RMSE\n",
    "rmse = accuracy.rmse(predictions)\n",
    "print(\"RMSE:\", rmse)"
   ]
  },
  {
   "cell_type": "code",
   "execution_count": 434,
   "id": "6a33440f-498f-4e56-90ec-d1670e27a06d",
   "metadata": {},
   "outputs": [
    {
     "name": "stdout",
     "output_type": "stream",
     "text": [
      "MAPE: 0.27015411104452264\n"
     ]
    }
   ],
   "source": [
    "# Step 12: Make predictions using the trained SVD model\n",
    "predictions = [model.predict(uid, iid, r_ui_trans) for (uid, iid, r_ui_trans) in test_set]\n",
    "# Step 13: Compute absolute percentage error for each prediction\n",
    "absolute_percentage_errors = []\n",
    "for prediction in predictions:\n",
    "    actual_rating = prediction.r_ui\n",
    "    predicted_rating = prediction.est\n",
    "    absolute_percentage_error = abs((actual_rating - predicted_rating) / actual_rating)\n",
    "    absolute_percentage_errors.append(absolute_percentage_error)\n",
    "# Step 14: Calculate MAPE\n",
    "mape = np.mean(absolute_percentage_errors)\n",
    "print(\"MAPE:\", mape)"
   ]
  },
  {
   "cell_type": "markdown",
   "id": "d7024700-d690-4fd5-a15e-b1a2b8b5587c",
   "metadata": {},
   "source": [
    "### Use embeddings for visualization and similarity based models."
   ]
  },
  {
   "cell_type": "code",
   "execution_count": 435,
   "id": "babd0938-e800-4154-a042-90956880480b",
   "metadata": {},
   "outputs": [
    {
     "data": {
      "image/png": "[encoded data removed]",
      "text/plain": [
       "<Figure size 640x480 with 1 Axes>"
      ]
     },
     "metadata": {},
     "output_type": "display_data"
    },
    {
     "data": {
      "image/png": "[encoded data removed]",
      "text/plain": [
       "<Figure size 640x480 with 1 Axes>"
      ]
     },
     "metadata": {},
     "output_type": "display_data"
    }
   ],
   "source": [
    "from sklearn.decomposition import PCA\n",
    "\n",
    "# Step 8: Extract item and user embeddings from the trained SVD model\n",
    "item_embeddings = model.qi\n",
    "user_embeddings = model.pu\n",
    "\n",
    "# Step 9: Redesign item-item similarity function using MF embeddings\n",
    "def item_item_similarity(item_id_1, item_id_2):\n",
    "    emb_1 = item_embeddings[item_id_1]\n",
    "    emb_2 = item_embeddings[item_id_2]\n",
    "    similarity = np.dot(emb_1, emb_2) / (np.linalg.norm(emb_1) * np.linalg.norm(emb_2))\n",
    "    return similarity\n",
    "\n",
    "# Step 10: Redesign user-user similarity function using MF embeddings\n",
    "def user_user_similarity(user_id_1, user_id_2):\n",
    "    emb_1 = user_embeddings[user_id_1]\n",
    "    emb_2 = user_embeddings[user_id_2]\n",
    "    similarity = np.dot(emb_1, emb_2) / (np.linalg.norm(emb_1) * np.linalg.norm(emb_2))\n",
    "    return similarity\n",
    "\n",
    "# Step 11: Get d=2 embeddings and plot the results\n",
    "pca = PCA(n_components=2)\n",
    "item_embeddings_2d = pca.fit_transform(item_embeddings)\n",
    "user_embeddings_2d = pca.fit_transform(user_embeddings)\n",
    "                  \n",
    "# Plot item embeddings in 2D\n",
    "plt.scatter(item_embeddings_2d[:, 0], item_embeddings_2d[:, 1])\n",
    "plt.xlabel('Embedding Dimension 1')\n",
    "plt.ylabel('Embedding Dimension 2')\n",
    "plt.title('Item Embeddings Visualization (2D)')\n",
    "plt.show()\n",
    "\n",
    "# Plot user embeddings in 2D\n",
    "plt.scatter(user_embeddings_2d[:, 0], user_embeddings_2d[:, 1])\n",
    "plt.xlabel('Embedding Dimension 1')\n",
    "plt.ylabel('Embedding Dimension 2')\n",
    "plt.title('User Embeddings Visualization (2D)')\n",
    "plt.show()"
   ]
  },
  {
   "cell_type": "code",
   "execution_count": 436,
   "id": "41c59693-7d57-42b2-9b5a-267855219ebf",
   "metadata": {},
   "outputs": [],
   "source": [
    "# There are few User outliers and lesser movie outliers"
   ]
  },
  {
   "cell_type": "code",
   "execution_count": null,
   "id": "e4b482dc-a3e7-44f1-9761-8684105d281d",
   "metadata": {},
   "outputs": [],
   "source": []
  },
  {
   "cell_type": "code",
   "execution_count": null,
   "id": "e28d04ca-eaeb-467e-b4a5-a9a82629e734",
   "metadata": {},
   "outputs": [],
   "source": []
  }
 ],
 "metadata": {
  "kernelspec": {
   "display_name": "Python 3 (ipykernel)",
   "language": "python",
   "name": "python3"
  },
  "language_info": {
   "codemirror_mode": {
    "name": "ipython",
    "version": 3
   },
   "file_extension": ".py",
   "mimetype": "text/x-python",
   "name": "python",
   "nbconvert_exporter": "python",
   "pygments_lexer": "ipython3",
   "version": "3.12.0"
  }
 },
 "nbformat": 4,
 "nbformat_minor": 5
}
